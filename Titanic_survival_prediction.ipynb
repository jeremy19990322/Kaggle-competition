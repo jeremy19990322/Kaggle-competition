{
 "cells": [
  {
   "cell_type": "code",
   "execution_count": 1,
   "id": "7f56919c",
   "metadata": {
    "_cell_guid": "b1076dfc-b9ad-4769-8c92-a6c4dae69d19",
    "_uuid": "8f2839f25d086af736a60e9eeb907d3b93b6e0e5",
    "execution": {
     "iopub.execute_input": "2022-04-02T19:48:51.215752Z",
     "iopub.status.busy": "2022-04-02T19:48:51.213956Z",
     "iopub.status.idle": "2022-04-02T19:48:51.229185Z",
     "shell.execute_reply": "2022-04-02T19:48:51.229737Z",
     "shell.execute_reply.started": "2022-04-02T19:47:59.566036Z"
    },
    "papermill": {
     "duration": 0.094675,
     "end_time": "2022-04-02T19:48:51.230045",
     "exception": false,
     "start_time": "2022-04-02T19:48:51.135370",
     "status": "completed"
    },
    "scrolled": true,
    "tags": []
   },
   "outputs": [
    {
     "name": "stdout",
     "output_type": "stream",
     "text": [
      "/kaggle/input/titanic/train.csv\n",
      "/kaggle/input/titanic/test.csv\n",
      "/kaggle/input/titanic/gender_submission.csv\n"
     ]
    }
   ],
   "source": [
    "# This Python 3 environment comes with many helpful analytics libraries installed\n",
    "# It is defined by the kaggle/python Docker image: https://github.com/kaggle/docker-python\n",
    "# For example, here's several helpful packages to load\n",
    "\n",
    "import numpy as np # linear algebra\n",
    "import pandas as pd # data processing, CSV file I/O (e.g. pd.read_csv)\n",
    "\n",
    "# Input data files are available in the read-only \"../input/\" directory\n",
    "# For example, running this (by clicking run or pressing Shift+Enter) will list all files under the input directory\n",
    "\n",
    "import os\n",
    "for dirname, _, filenames in os.walk('/kaggle/input'):\n",
    "    for filename in filenames:\n",
    "        print(os.path.join(dirname, filename))\n",
    "\n",
    "# You can write up to 20GB to the current directory (/kaggle/working/) that gets preserved as output when you create a version using \"Save & Run All\" \n",
    "# You can also write temporary files to /kaggle/temp/, but they won't be saved outside of the current session"
   ]
  },
  {
   "cell_type": "markdown",
   "id": "a36fbcf1",
   "metadata": {
    "papermill": {
     "duration": 0.074619,
     "end_time": "2022-04-02T19:48:51.383313",
     "exception": false,
     "start_time": "2022-04-02T19:48:51.308694",
     "status": "completed"
    },
    "tags": []
   },
   "source": [
    "**1. Define data problems**\n",
    "\n",
    "On April 15, 1912, during her maiden voyage, the Titanic sank after colliding with an iceberg, killing 1502 out of 2224 passengers and crew. Translated 32% survival rate.\n",
    "One of the reasons that the shipwreck led to such loss of life was that there were not enough lifeboats for the passengers and crew.\n",
    "Although there was some element of luck involved in surviving the sinking, some groups of people were more likely to survive than others, such as women, children, and the upper-class.\n",
    "Given the training data set, we want to predict if some passengers survived or not."
   ]
  },
  {
   "cell_type": "markdown",
   "id": "4885aa5b",
   "metadata": {
    "papermill": {
     "duration": 0.073337,
     "end_time": "2022-04-02T19:48:51.531139",
     "exception": false,
     "start_time": "2022-04-02T19:48:51.457802",
     "status": "completed"
    },
    "tags": []
   },
   "source": [
    "**2. Import data**"
   ]
  },
  {
   "cell_type": "code",
   "execution_count": 2,
   "id": "a3cd6872",
   "metadata": {
    "execution": {
     "iopub.execute_input": "2022-04-02T19:48:51.683380Z",
     "iopub.status.busy": "2022-04-02T19:48:51.682628Z",
     "iopub.status.idle": "2022-04-02T19:48:51.709928Z",
     "shell.execute_reply": "2022-04-02T19:48:51.710464Z",
     "shell.execute_reply.started": "2022-04-02T19:47:59.576468Z"
    },
    "papermill": {
     "duration": 0.1055,
     "end_time": "2022-04-02T19:48:51.710655",
     "exception": false,
     "start_time": "2022-04-02T19:48:51.605155",
     "status": "completed"
    },
    "tags": []
   },
   "outputs": [],
   "source": [
    "train_data = pd.read_csv('../input/titanic/train.csv')\n",
    "test_data = pd.read_csv('../input/titanic/test.csv')\n",
    "combine = [train_data, test_data]\n"
   ]
  },
  {
   "cell_type": "markdown",
   "id": "242d49e9",
   "metadata": {
    "papermill": {
     "duration": 0.073466,
     "end_time": "2022-04-02T19:48:51.858947",
     "exception": false,
     "start_time": "2022-04-02T19:48:51.785481",
     "status": "completed"
    },
    "tags": []
   },
   "source": [
    "**3. Analyze by describing data**"
   ]
  },
  {
   "cell_type": "markdown",
   "id": "f59f208b",
   "metadata": {
    "papermill": {
     "duration": 0.072822,
     "end_time": "2022-04-02T19:48:52.005737",
     "exception": false,
     "start_time": "2022-04-02T19:48:51.932915",
     "status": "completed"
    },
    "tags": []
   },
   "source": [
    "data preview"
   ]
  },
  {
   "cell_type": "code",
   "execution_count": 3,
   "id": "9ebfc8b6",
   "metadata": {
    "execution": {
     "iopub.execute_input": "2022-04-02T19:48:52.156586Z",
     "iopub.status.busy": "2022-04-02T19:48:52.155927Z",
     "iopub.status.idle": "2022-04-02T19:48:52.178733Z",
     "shell.execute_reply": "2022-04-02T19:48:52.179270Z",
     "shell.execute_reply.started": "2022-04-02T19:47:59.595989Z"
    },
    "papermill": {
     "duration": 0.099522,
     "end_time": "2022-04-02T19:48:52.179435",
     "exception": false,
     "start_time": "2022-04-02T19:48:52.079913",
     "status": "completed"
    },
    "tags": []
   },
   "outputs": [
    {
     "data": {
      "text/html": [
       "<div>\n",
       "<style scoped>\n",
       "    .dataframe tbody tr th:only-of-type {\n",
       "        vertical-align: middle;\n",
       "    }\n",
       "\n",
       "    .dataframe tbody tr th {\n",
       "        vertical-align: top;\n",
       "    }\n",
       "\n",
       "    .dataframe thead th {\n",
       "        text-align: right;\n",
       "    }\n",
       "</style>\n",
       "<table border=\"1\" class=\"dataframe\">\n",
       "  <thead>\n",
       "    <tr style=\"text-align: right;\">\n",
       "      <th></th>\n",
       "      <th>PassengerId</th>\n",
       "      <th>Survived</th>\n",
       "      <th>Pclass</th>\n",
       "      <th>Name</th>\n",
       "      <th>Sex</th>\n",
       "      <th>Age</th>\n",
       "      <th>SibSp</th>\n",
       "      <th>Parch</th>\n",
       "      <th>Ticket</th>\n",
       "      <th>Fare</th>\n",
       "      <th>Cabin</th>\n",
       "      <th>Embarked</th>\n",
       "    </tr>\n",
       "  </thead>\n",
       "  <tbody>\n",
       "    <tr>\n",
       "      <th>0</th>\n",
       "      <td>1</td>\n",
       "      <td>0</td>\n",
       "      <td>3</td>\n",
       "      <td>Braund, Mr. Owen Harris</td>\n",
       "      <td>male</td>\n",
       "      <td>22.0</td>\n",
       "      <td>1</td>\n",
       "      <td>0</td>\n",
       "      <td>A/5 21171</td>\n",
       "      <td>7.2500</td>\n",
       "      <td>NaN</td>\n",
       "      <td>S</td>\n",
       "    </tr>\n",
       "    <tr>\n",
       "      <th>1</th>\n",
       "      <td>2</td>\n",
       "      <td>1</td>\n",
       "      <td>1</td>\n",
       "      <td>Cumings, Mrs. John Bradley (Florence Briggs Th...</td>\n",
       "      <td>female</td>\n",
       "      <td>38.0</td>\n",
       "      <td>1</td>\n",
       "      <td>0</td>\n",
       "      <td>PC 17599</td>\n",
       "      <td>71.2833</td>\n",
       "      <td>C85</td>\n",
       "      <td>C</td>\n",
       "    </tr>\n",
       "    <tr>\n",
       "      <th>2</th>\n",
       "      <td>3</td>\n",
       "      <td>1</td>\n",
       "      <td>3</td>\n",
       "      <td>Heikkinen, Miss. Laina</td>\n",
       "      <td>female</td>\n",
       "      <td>26.0</td>\n",
       "      <td>0</td>\n",
       "      <td>0</td>\n",
       "      <td>STON/O2. 3101282</td>\n",
       "      <td>7.9250</td>\n",
       "      <td>NaN</td>\n",
       "      <td>S</td>\n",
       "    </tr>\n",
       "    <tr>\n",
       "      <th>3</th>\n",
       "      <td>4</td>\n",
       "      <td>1</td>\n",
       "      <td>1</td>\n",
       "      <td>Futrelle, Mrs. Jacques Heath (Lily May Peel)</td>\n",
       "      <td>female</td>\n",
       "      <td>35.0</td>\n",
       "      <td>1</td>\n",
       "      <td>0</td>\n",
       "      <td>113803</td>\n",
       "      <td>53.1000</td>\n",
       "      <td>C123</td>\n",
       "      <td>S</td>\n",
       "    </tr>\n",
       "    <tr>\n",
       "      <th>4</th>\n",
       "      <td>5</td>\n",
       "      <td>0</td>\n",
       "      <td>3</td>\n",
       "      <td>Allen, Mr. William Henry</td>\n",
       "      <td>male</td>\n",
       "      <td>35.0</td>\n",
       "      <td>0</td>\n",
       "      <td>0</td>\n",
       "      <td>373450</td>\n",
       "      <td>8.0500</td>\n",
       "      <td>NaN</td>\n",
       "      <td>S</td>\n",
       "    </tr>\n",
       "  </tbody>\n",
       "</table>\n",
       "</div>"
      ],
      "text/plain": [
       "   PassengerId  Survived  Pclass  \\\n",
       "0            1         0       3   \n",
       "1            2         1       1   \n",
       "2            3         1       3   \n",
       "3            4         1       1   \n",
       "4            5         0       3   \n",
       "\n",
       "                                                Name     Sex   Age  SibSp  \\\n",
       "0                            Braund, Mr. Owen Harris    male  22.0      1   \n",
       "1  Cumings, Mrs. John Bradley (Florence Briggs Th...  female  38.0      1   \n",
       "2                             Heikkinen, Miss. Laina  female  26.0      0   \n",
       "3       Futrelle, Mrs. Jacques Heath (Lily May Peel)  female  35.0      1   \n",
       "4                           Allen, Mr. William Henry    male  35.0      0   \n",
       "\n",
       "   Parch            Ticket     Fare Cabin Embarked  \n",
       "0      0         A/5 21171   7.2500   NaN        S  \n",
       "1      0          PC 17599  71.2833   C85        C  \n",
       "2      0  STON/O2. 3101282   7.9250   NaN        S  \n",
       "3      0            113803  53.1000  C123        S  \n",
       "4      0            373450   8.0500   NaN        S  "
      ]
     },
     "execution_count": 3,
     "metadata": {},
     "output_type": "execute_result"
    }
   ],
   "source": [
    "train_data.head()"
   ]
  },
  {
   "cell_type": "code",
   "execution_count": 4,
   "id": "2b8c8c0d",
   "metadata": {
    "execution": {
     "iopub.execute_input": "2022-04-02T19:48:52.331439Z",
     "iopub.status.busy": "2022-04-02T19:48:52.330837Z",
     "iopub.status.idle": "2022-04-02T19:48:52.344957Z",
     "shell.execute_reply": "2022-04-02T19:48:52.345440Z",
     "shell.execute_reply.started": "2022-04-02T19:47:59.613992Z"
    },
    "papermill": {
     "duration": 0.091186,
     "end_time": "2022-04-02T19:48:52.345615",
     "exception": false,
     "start_time": "2022-04-02T19:48:52.254429",
     "status": "completed"
    },
    "tags": []
   },
   "outputs": [
    {
     "data": {
      "text/html": [
       "<div>\n",
       "<style scoped>\n",
       "    .dataframe tbody tr th:only-of-type {\n",
       "        vertical-align: middle;\n",
       "    }\n",
       "\n",
       "    .dataframe tbody tr th {\n",
       "        vertical-align: top;\n",
       "    }\n",
       "\n",
       "    .dataframe thead th {\n",
       "        text-align: right;\n",
       "    }\n",
       "</style>\n",
       "<table border=\"1\" class=\"dataframe\">\n",
       "  <thead>\n",
       "    <tr style=\"text-align: right;\">\n",
       "      <th></th>\n",
       "      <th>PassengerId</th>\n",
       "      <th>Survived</th>\n",
       "      <th>Pclass</th>\n",
       "      <th>Name</th>\n",
       "      <th>Sex</th>\n",
       "      <th>Age</th>\n",
       "      <th>SibSp</th>\n",
       "      <th>Parch</th>\n",
       "      <th>Ticket</th>\n",
       "      <th>Fare</th>\n",
       "      <th>Cabin</th>\n",
       "      <th>Embarked</th>\n",
       "    </tr>\n",
       "  </thead>\n",
       "  <tbody>\n",
       "    <tr>\n",
       "      <th>886</th>\n",
       "      <td>887</td>\n",
       "      <td>0</td>\n",
       "      <td>2</td>\n",
       "      <td>Montvila, Rev. Juozas</td>\n",
       "      <td>male</td>\n",
       "      <td>27.0</td>\n",
       "      <td>0</td>\n",
       "      <td>0</td>\n",
       "      <td>211536</td>\n",
       "      <td>13.00</td>\n",
       "      <td>NaN</td>\n",
       "      <td>S</td>\n",
       "    </tr>\n",
       "    <tr>\n",
       "      <th>887</th>\n",
       "      <td>888</td>\n",
       "      <td>1</td>\n",
       "      <td>1</td>\n",
       "      <td>Graham, Miss. Margaret Edith</td>\n",
       "      <td>female</td>\n",
       "      <td>19.0</td>\n",
       "      <td>0</td>\n",
       "      <td>0</td>\n",
       "      <td>112053</td>\n",
       "      <td>30.00</td>\n",
       "      <td>B42</td>\n",
       "      <td>S</td>\n",
       "    </tr>\n",
       "    <tr>\n",
       "      <th>888</th>\n",
       "      <td>889</td>\n",
       "      <td>0</td>\n",
       "      <td>3</td>\n",
       "      <td>Johnston, Miss. Catherine Helen \"Carrie\"</td>\n",
       "      <td>female</td>\n",
       "      <td>NaN</td>\n",
       "      <td>1</td>\n",
       "      <td>2</td>\n",
       "      <td>W./C. 6607</td>\n",
       "      <td>23.45</td>\n",
       "      <td>NaN</td>\n",
       "      <td>S</td>\n",
       "    </tr>\n",
       "    <tr>\n",
       "      <th>889</th>\n",
       "      <td>890</td>\n",
       "      <td>1</td>\n",
       "      <td>1</td>\n",
       "      <td>Behr, Mr. Karl Howell</td>\n",
       "      <td>male</td>\n",
       "      <td>26.0</td>\n",
       "      <td>0</td>\n",
       "      <td>0</td>\n",
       "      <td>111369</td>\n",
       "      <td>30.00</td>\n",
       "      <td>C148</td>\n",
       "      <td>C</td>\n",
       "    </tr>\n",
       "    <tr>\n",
       "      <th>890</th>\n",
       "      <td>891</td>\n",
       "      <td>0</td>\n",
       "      <td>3</td>\n",
       "      <td>Dooley, Mr. Patrick</td>\n",
       "      <td>male</td>\n",
       "      <td>32.0</td>\n",
       "      <td>0</td>\n",
       "      <td>0</td>\n",
       "      <td>370376</td>\n",
       "      <td>7.75</td>\n",
       "      <td>NaN</td>\n",
       "      <td>Q</td>\n",
       "    </tr>\n",
       "  </tbody>\n",
       "</table>\n",
       "</div>"
      ],
      "text/plain": [
       "     PassengerId  Survived  Pclass                                      Name  \\\n",
       "886          887         0       2                     Montvila, Rev. Juozas   \n",
       "887          888         1       1              Graham, Miss. Margaret Edith   \n",
       "888          889         0       3  Johnston, Miss. Catherine Helen \"Carrie\"   \n",
       "889          890         1       1                     Behr, Mr. Karl Howell   \n",
       "890          891         0       3                       Dooley, Mr. Patrick   \n",
       "\n",
       "        Sex   Age  SibSp  Parch      Ticket   Fare Cabin Embarked  \n",
       "886    male  27.0      0      0      211536  13.00   NaN        S  \n",
       "887  female  19.0      0      0      112053  30.00   B42        S  \n",
       "888  female   NaN      1      2  W./C. 6607  23.45   NaN        S  \n",
       "889    male  26.0      0      0      111369  30.00  C148        C  \n",
       "890    male  32.0      0      0      370376   7.75   NaN        Q  "
      ]
     },
     "execution_count": 4,
     "metadata": {},
     "output_type": "execute_result"
    }
   ],
   "source": [
    "train_data.tail()"
   ]
  },
  {
   "cell_type": "code",
   "execution_count": 5,
   "id": "27c6b10d",
   "metadata": {
    "execution": {
     "iopub.execute_input": "2022-04-02T19:48:52.498005Z",
     "iopub.status.busy": "2022-04-02T19:48:52.497336Z",
     "iopub.status.idle": "2022-04-02T19:48:52.502040Z",
     "shell.execute_reply": "2022-04-02T19:48:52.502967Z",
     "shell.execute_reply.started": "2022-04-02T19:47:59.630498Z"
    },
    "papermill": {
     "duration": 0.082887,
     "end_time": "2022-04-02T19:48:52.503293",
     "exception": false,
     "start_time": "2022-04-02T19:48:52.420406",
     "status": "completed"
    },
    "tags": []
   },
   "outputs": [
    {
     "name": "stdout",
     "output_type": "stream",
     "text": [
      "['PassengerId' 'Survived' 'Pclass' 'Name' 'Sex' 'Age' 'SibSp' 'Parch'\n",
      " 'Ticket' 'Fare' 'Cabin' 'Embarked']\n"
     ]
    }
   ],
   "source": [
    "print(train_data.columns.values)"
   ]
  },
  {
   "cell_type": "markdown",
   "id": "94f1b874",
   "metadata": {
    "papermill": {
     "duration": 0.075338,
     "end_time": "2022-04-02T19:48:52.655035",
     "exception": false,
     "start_time": "2022-04-02T19:48:52.579697",
     "status": "completed"
    },
    "tags": []
   },
   "source": [
    "Categorical features: Survied, Pclass, Sex, Embarked\n",
    "\n",
    "Numerical features: Age, SibSp(number of siblings), Fare\n",
    "\n",
    "Mix: Ticket"
   ]
  },
  {
   "cell_type": "code",
   "execution_count": 6,
   "id": "6c4f7a48",
   "metadata": {
    "execution": {
     "iopub.execute_input": "2022-04-02T19:48:52.808841Z",
     "iopub.status.busy": "2022-04-02T19:48:52.808141Z",
     "iopub.status.idle": "2022-04-02T19:48:52.840957Z",
     "shell.execute_reply": "2022-04-02T19:48:52.841744Z",
     "shell.execute_reply.started": "2022-04-02T19:47:59.641001Z"
    },
    "papermill": {
     "duration": 0.112226,
     "end_time": "2022-04-02T19:48:52.841993",
     "exception": false,
     "start_time": "2022-04-02T19:48:52.729767",
     "status": "completed"
    },
    "tags": []
   },
   "outputs": [
    {
     "name": "stdout",
     "output_type": "stream",
     "text": [
      "<class 'pandas.core.frame.DataFrame'>\n",
      "RangeIndex: 891 entries, 0 to 890\n",
      "Data columns (total 12 columns):\n",
      " #   Column       Non-Null Count  Dtype  \n",
      "---  ------       --------------  -----  \n",
      " 0   PassengerId  891 non-null    int64  \n",
      " 1   Survived     891 non-null    int64  \n",
      " 2   Pclass       891 non-null    int64  \n",
      " 3   Name         891 non-null    object \n",
      " 4   Sex          891 non-null    object \n",
      " 5   Age          714 non-null    float64\n",
      " 6   SibSp        891 non-null    int64  \n",
      " 7   Parch        891 non-null    int64  \n",
      " 8   Ticket       891 non-null    object \n",
      " 9   Fare         891 non-null    float64\n",
      " 10  Cabin        204 non-null    object \n",
      " 11  Embarked     889 non-null    object \n",
      "dtypes: float64(2), int64(5), object(5)\n",
      "memory usage: 83.7+ KB\n",
      "==============================================\n",
      "<class 'pandas.core.frame.DataFrame'>\n",
      "RangeIndex: 418 entries, 0 to 417\n",
      "Data columns (total 11 columns):\n",
      " #   Column       Non-Null Count  Dtype  \n",
      "---  ------       --------------  -----  \n",
      " 0   PassengerId  418 non-null    int64  \n",
      " 1   Pclass       418 non-null    int64  \n",
      " 2   Name         418 non-null    object \n",
      " 3   Sex          418 non-null    object \n",
      " 4   Age          332 non-null    float64\n",
      " 5   SibSp        418 non-null    int64  \n",
      " 6   Parch        418 non-null    int64  \n",
      " 7   Ticket       418 non-null    object \n",
      " 8   Fare         417 non-null    float64\n",
      " 9   Cabin        91 non-null     object \n",
      " 10  Embarked     418 non-null    object \n",
      "dtypes: float64(2), int64(4), object(5)\n",
      "memory usage: 36.0+ KB\n"
     ]
    }
   ],
   "source": [
    "train_data.info()\n",
    "print('==============================================')\n",
    "test_data.info()"
   ]
  },
  {
   "cell_type": "markdown",
   "id": "5cc4527b",
   "metadata": {
    "papermill": {
     "duration": 0.076102,
     "end_time": "2022-04-02T19:48:52.996121",
     "exception": false,
     "start_time": "2022-04-02T19:48:52.920019",
     "status": "completed"
    },
    "tags": []
   },
   "source": [
    "**Missing value** from training set: Age, Cabin, Embarked\n",
    "\n",
    "**Missing value** from testing set: Age, Fare, Cabin"
   ]
  },
  {
   "cell_type": "code",
   "execution_count": 7,
   "id": "961301c5",
   "metadata": {
    "execution": {
     "iopub.execute_input": "2022-04-02T19:48:53.151349Z",
     "iopub.status.busy": "2022-04-02T19:48:53.150667Z",
     "iopub.status.idle": "2022-04-02T19:48:53.182199Z",
     "shell.execute_reply": "2022-04-02T19:48:53.182719Z",
     "shell.execute_reply.started": "2022-04-02T19:47:59.668333Z"
    },
    "papermill": {
     "duration": 0.11013,
     "end_time": "2022-04-02T19:48:53.182920",
     "exception": false,
     "start_time": "2022-04-02T19:48:53.072790",
     "status": "completed"
    },
    "tags": []
   },
   "outputs": [
    {
     "data": {
      "text/html": [
       "<div>\n",
       "<style scoped>\n",
       "    .dataframe tbody tr th:only-of-type {\n",
       "        vertical-align: middle;\n",
       "    }\n",
       "\n",
       "    .dataframe tbody tr th {\n",
       "        vertical-align: top;\n",
       "    }\n",
       "\n",
       "    .dataframe thead th {\n",
       "        text-align: right;\n",
       "    }\n",
       "</style>\n",
       "<table border=\"1\" class=\"dataframe\">\n",
       "  <thead>\n",
       "    <tr style=\"text-align: right;\">\n",
       "      <th></th>\n",
       "      <th>PassengerId</th>\n",
       "      <th>Survived</th>\n",
       "      <th>Pclass</th>\n",
       "      <th>Age</th>\n",
       "      <th>SibSp</th>\n",
       "      <th>Parch</th>\n",
       "      <th>Fare</th>\n",
       "    </tr>\n",
       "  </thead>\n",
       "  <tbody>\n",
       "    <tr>\n",
       "      <th>count</th>\n",
       "      <td>891.000000</td>\n",
       "      <td>891.000000</td>\n",
       "      <td>891.000000</td>\n",
       "      <td>714.000000</td>\n",
       "      <td>891.000000</td>\n",
       "      <td>891.000000</td>\n",
       "      <td>891.000000</td>\n",
       "    </tr>\n",
       "    <tr>\n",
       "      <th>mean</th>\n",
       "      <td>446.000000</td>\n",
       "      <td>0.383838</td>\n",
       "      <td>2.308642</td>\n",
       "      <td>29.699118</td>\n",
       "      <td>0.523008</td>\n",
       "      <td>0.381594</td>\n",
       "      <td>32.204208</td>\n",
       "    </tr>\n",
       "    <tr>\n",
       "      <th>std</th>\n",
       "      <td>257.353842</td>\n",
       "      <td>0.486592</td>\n",
       "      <td>0.836071</td>\n",
       "      <td>14.526497</td>\n",
       "      <td>1.102743</td>\n",
       "      <td>0.806057</td>\n",
       "      <td>49.693429</td>\n",
       "    </tr>\n",
       "    <tr>\n",
       "      <th>min</th>\n",
       "      <td>1.000000</td>\n",
       "      <td>0.000000</td>\n",
       "      <td>1.000000</td>\n",
       "      <td>0.420000</td>\n",
       "      <td>0.000000</td>\n",
       "      <td>0.000000</td>\n",
       "      <td>0.000000</td>\n",
       "    </tr>\n",
       "    <tr>\n",
       "      <th>25%</th>\n",
       "      <td>223.500000</td>\n",
       "      <td>0.000000</td>\n",
       "      <td>2.000000</td>\n",
       "      <td>20.125000</td>\n",
       "      <td>0.000000</td>\n",
       "      <td>0.000000</td>\n",
       "      <td>7.910400</td>\n",
       "    </tr>\n",
       "    <tr>\n",
       "      <th>50%</th>\n",
       "      <td>446.000000</td>\n",
       "      <td>0.000000</td>\n",
       "      <td>3.000000</td>\n",
       "      <td>28.000000</td>\n",
       "      <td>0.000000</td>\n",
       "      <td>0.000000</td>\n",
       "      <td>14.454200</td>\n",
       "    </tr>\n",
       "    <tr>\n",
       "      <th>75%</th>\n",
       "      <td>668.500000</td>\n",
       "      <td>1.000000</td>\n",
       "      <td>3.000000</td>\n",
       "      <td>38.000000</td>\n",
       "      <td>1.000000</td>\n",
       "      <td>0.000000</td>\n",
       "      <td>31.000000</td>\n",
       "    </tr>\n",
       "    <tr>\n",
       "      <th>max</th>\n",
       "      <td>891.000000</td>\n",
       "      <td>1.000000</td>\n",
       "      <td>3.000000</td>\n",
       "      <td>80.000000</td>\n",
       "      <td>8.000000</td>\n",
       "      <td>6.000000</td>\n",
       "      <td>512.329200</td>\n",
       "    </tr>\n",
       "  </tbody>\n",
       "</table>\n",
       "</div>"
      ],
      "text/plain": [
       "       PassengerId    Survived      Pclass         Age       SibSp  \\\n",
       "count   891.000000  891.000000  891.000000  714.000000  891.000000   \n",
       "mean    446.000000    0.383838    2.308642   29.699118    0.523008   \n",
       "std     257.353842    0.486592    0.836071   14.526497    1.102743   \n",
       "min       1.000000    0.000000    1.000000    0.420000    0.000000   \n",
       "25%     223.500000    0.000000    2.000000   20.125000    0.000000   \n",
       "50%     446.000000    0.000000    3.000000   28.000000    0.000000   \n",
       "75%     668.500000    1.000000    3.000000   38.000000    1.000000   \n",
       "max     891.000000    1.000000    3.000000   80.000000    8.000000   \n",
       "\n",
       "            Parch        Fare  \n",
       "count  891.000000  891.000000  \n",
       "mean     0.381594   32.204208  \n",
       "std      0.806057   49.693429  \n",
       "min      0.000000    0.000000  \n",
       "25%      0.000000    7.910400  \n",
       "50%      0.000000   14.454200  \n",
       "75%      0.000000   31.000000  \n",
       "max      6.000000  512.329200  "
      ]
     },
     "execution_count": 7,
     "metadata": {},
     "output_type": "execute_result"
    }
   ],
   "source": [
    "train_data.describe()"
   ]
  },
  {
   "cell_type": "markdown",
   "id": "26be2324",
   "metadata": {
    "papermill": {
     "duration": 0.076645,
     "end_time": "2022-04-02T19:48:53.336980",
     "exception": false,
     "start_time": "2022-04-02T19:48:53.260335",
     "status": "completed"
    },
    "tags": []
   },
   "source": [
    "**Early numerical features insights**\n",
    "\n",
    "1. According to problem description, there are 1502 out of 2224 passengers were killed. The observed surviving rate is (2224-1502)/2224 = 32%. Whereas in training set, surviving rate is 38%.\n",
    "\n",
    "2. Most of people (>50%) were Pclass 3.\n",
    "\n",
    "3. The passengers were relatively young.\n",
    "\n",
    "4. Most of people (around 50% - 75%) were not travling with siblings or spouse.\n",
    "\n",
    "5. Near 25% of people were travelling with parents and children.\n",
    "\n",
    "6. Fares varied significantly with few passengers (<1%) paying as high as $512."
   ]
  },
  {
   "cell_type": "code",
   "execution_count": 8,
   "id": "f0adfa1b",
   "metadata": {
    "execution": {
     "iopub.execute_input": "2022-04-02T19:48:53.492130Z",
     "iopub.status.busy": "2022-04-02T19:48:53.491367Z",
     "iopub.status.idle": "2022-04-02T19:48:53.510522Z",
     "shell.execute_reply": "2022-04-02T19:48:53.511026Z",
     "shell.execute_reply.started": "2022-04-02T19:47:59.698891Z"
    },
    "papermill": {
     "duration": 0.098032,
     "end_time": "2022-04-02T19:48:53.511195",
     "exception": false,
     "start_time": "2022-04-02T19:48:53.413163",
     "status": "completed"
    },
    "tags": []
   },
   "outputs": [
    {
     "data": {
      "text/html": [
       "<div>\n",
       "<style scoped>\n",
       "    .dataframe tbody tr th:only-of-type {\n",
       "        vertical-align: middle;\n",
       "    }\n",
       "\n",
       "    .dataframe tbody tr th {\n",
       "        vertical-align: top;\n",
       "    }\n",
       "\n",
       "    .dataframe thead th {\n",
       "        text-align: right;\n",
       "    }\n",
       "</style>\n",
       "<table border=\"1\" class=\"dataframe\">\n",
       "  <thead>\n",
       "    <tr style=\"text-align: right;\">\n",
       "      <th></th>\n",
       "      <th>Name</th>\n",
       "      <th>Sex</th>\n",
       "      <th>Ticket</th>\n",
       "      <th>Cabin</th>\n",
       "      <th>Embarked</th>\n",
       "    </tr>\n",
       "  </thead>\n",
       "  <tbody>\n",
       "    <tr>\n",
       "      <th>count</th>\n",
       "      <td>891</td>\n",
       "      <td>891</td>\n",
       "      <td>891</td>\n",
       "      <td>204</td>\n",
       "      <td>889</td>\n",
       "    </tr>\n",
       "    <tr>\n",
       "      <th>unique</th>\n",
       "      <td>891</td>\n",
       "      <td>2</td>\n",
       "      <td>681</td>\n",
       "      <td>147</td>\n",
       "      <td>3</td>\n",
       "    </tr>\n",
       "    <tr>\n",
       "      <th>top</th>\n",
       "      <td>Braund, Mr. Owen Harris</td>\n",
       "      <td>male</td>\n",
       "      <td>347082</td>\n",
       "      <td>B96 B98</td>\n",
       "      <td>S</td>\n",
       "    </tr>\n",
       "    <tr>\n",
       "      <th>freq</th>\n",
       "      <td>1</td>\n",
       "      <td>577</td>\n",
       "      <td>7</td>\n",
       "      <td>4</td>\n",
       "      <td>644</td>\n",
       "    </tr>\n",
       "  </tbody>\n",
       "</table>\n",
       "</div>"
      ],
      "text/plain": [
       "                           Name   Sex  Ticket    Cabin Embarked\n",
       "count                       891   891     891      204      889\n",
       "unique                      891     2     681      147        3\n",
       "top     Braund, Mr. Owen Harris  male  347082  B96 B98        S\n",
       "freq                          1   577       7        4      644"
      ]
     },
     "execution_count": 8,
     "metadata": {},
     "output_type": "execute_result"
    }
   ],
   "source": [
    "train_data.describe(include=['O'])"
   ]
  },
  {
   "cell_type": "markdown",
   "id": "852085fd",
   "metadata": {
    "papermill": {
     "duration": 0.07623,
     "end_time": "2022-04-02T19:48:53.665312",
     "exception": false,
     "start_time": "2022-04-02T19:48:53.589082",
     "status": "completed"
    },
    "tags": []
   },
   "source": [
    "**Early categorical features insights**\n",
    "\n",
    "1. Names are unique.\n",
    "\n",
    "2. 577/891 = 65% are male.\n",
    "\n",
    "3. Some passengers shared one cabin.\n",
    "\n",
    "4. Most of people embarked S."
   ]
  },
  {
   "cell_type": "markdown",
   "id": "c145d497",
   "metadata": {
    "papermill": {
     "duration": 0.07611,
     "end_time": "2022-04-02T19:48:53.818362",
     "exception": false,
     "start_time": "2022-04-02T19:48:53.742252",
     "status": "completed"
    },
    "tags": []
   },
   "source": [
    "*****Analyze by pivoting ******\n",
    "\n",
    "1. Pclass - Survived: Significant correlation among Pclass=1 -> feature kept\n",
    "\n",
    "2. Sex - Survived: Significant correlation among Sex=Female -> feature kept\n",
    "\n",
    "3. Sibsp - Survived: Some index have zero correlation -> derive and create new features\n",
    "\n",
    "4. Parch - Survived: Some index have zero correlation -> derive and create new features"
   ]
  },
  {
   "cell_type": "code",
   "execution_count": 9,
   "id": "5ef69262",
   "metadata": {
    "execution": {
     "iopub.execute_input": "2022-04-02T19:48:53.975069Z",
     "iopub.status.busy": "2022-04-02T19:48:53.974425Z",
     "iopub.status.idle": "2022-04-02T19:48:53.986745Z",
     "shell.execute_reply": "2022-04-02T19:48:53.987254Z",
     "shell.execute_reply.started": "2022-04-02T19:47:59.720794Z"
    },
    "papermill": {
     "duration": 0.092736,
     "end_time": "2022-04-02T19:48:53.987422",
     "exception": false,
     "start_time": "2022-04-02T19:48:53.894686",
     "status": "completed"
    },
    "tags": []
   },
   "outputs": [
    {
     "data": {
      "text/html": [
       "<div>\n",
       "<style scoped>\n",
       "    .dataframe tbody tr th:only-of-type {\n",
       "        vertical-align: middle;\n",
       "    }\n",
       "\n",
       "    .dataframe tbody tr th {\n",
       "        vertical-align: top;\n",
       "    }\n",
       "\n",
       "    .dataframe thead th {\n",
       "        text-align: right;\n",
       "    }\n",
       "</style>\n",
       "<table border=\"1\" class=\"dataframe\">\n",
       "  <thead>\n",
       "    <tr style=\"text-align: right;\">\n",
       "      <th></th>\n",
       "      <th>Survived</th>\n",
       "    </tr>\n",
       "    <tr>\n",
       "      <th>Pclass</th>\n",
       "      <th></th>\n",
       "    </tr>\n",
       "  </thead>\n",
       "  <tbody>\n",
       "    <tr>\n",
       "      <th>1</th>\n",
       "      <td>0.629630</td>\n",
       "    </tr>\n",
       "    <tr>\n",
       "      <th>2</th>\n",
       "      <td>0.472826</td>\n",
       "    </tr>\n",
       "    <tr>\n",
       "      <th>3</th>\n",
       "      <td>0.242363</td>\n",
       "    </tr>\n",
       "  </tbody>\n",
       "</table>\n",
       "</div>"
      ],
      "text/plain": [
       "        Survived\n",
       "Pclass          \n",
       "1       0.629630\n",
       "2       0.472826\n",
       "3       0.242363"
      ]
     },
     "execution_count": 9,
     "metadata": {},
     "output_type": "execute_result"
    }
   ],
   "source": [
    "train_data[['Pclass', 'Survived']].groupby(['Pclass'], as_index=True).mean().sort_values(by='Survived', ascending=False)"
   ]
  },
  {
   "cell_type": "code",
   "execution_count": 10,
   "id": "6f7d3776",
   "metadata": {
    "execution": {
     "iopub.execute_input": "2022-04-02T19:48:54.150875Z",
     "iopub.status.busy": "2022-04-02T19:48:54.150203Z",
     "iopub.status.idle": "2022-04-02T19:48:54.157449Z",
     "shell.execute_reply": "2022-04-02T19:48:54.157905Z",
     "shell.execute_reply.started": "2022-04-02T19:47:59.734164Z"
    },
    "papermill": {
     "duration": 0.092422,
     "end_time": "2022-04-02T19:48:54.158080",
     "exception": false,
     "start_time": "2022-04-02T19:48:54.065658",
     "status": "completed"
    },
    "tags": []
   },
   "outputs": [
    {
     "data": {
      "text/html": [
       "<div>\n",
       "<style scoped>\n",
       "    .dataframe tbody tr th:only-of-type {\n",
       "        vertical-align: middle;\n",
       "    }\n",
       "\n",
       "    .dataframe tbody tr th {\n",
       "        vertical-align: top;\n",
       "    }\n",
       "\n",
       "    .dataframe thead th {\n",
       "        text-align: right;\n",
       "    }\n",
       "</style>\n",
       "<table border=\"1\" class=\"dataframe\">\n",
       "  <thead>\n",
       "    <tr style=\"text-align: right;\">\n",
       "      <th></th>\n",
       "      <th>Survived</th>\n",
       "    </tr>\n",
       "    <tr>\n",
       "      <th>Sex</th>\n",
       "      <th></th>\n",
       "    </tr>\n",
       "  </thead>\n",
       "  <tbody>\n",
       "    <tr>\n",
       "      <th>female</th>\n",
       "      <td>0.742038</td>\n",
       "    </tr>\n",
       "    <tr>\n",
       "      <th>male</th>\n",
       "      <td>0.188908</td>\n",
       "    </tr>\n",
       "  </tbody>\n",
       "</table>\n",
       "</div>"
      ],
      "text/plain": [
       "        Survived\n",
       "Sex             \n",
       "female  0.742038\n",
       "male    0.188908"
      ]
     },
     "execution_count": 10,
     "metadata": {},
     "output_type": "execute_result"
    }
   ],
   "source": [
    "train_data[['Sex', 'Survived']].groupby(['Sex'], as_index=True).mean().sort_values(by='Survived', ascending=False)"
   ]
  },
  {
   "cell_type": "code",
   "execution_count": 11,
   "id": "15814d72",
   "metadata": {
    "execution": {
     "iopub.execute_input": "2022-04-02T19:48:54.316862Z",
     "iopub.status.busy": "2022-04-02T19:48:54.316218Z",
     "iopub.status.idle": "2022-04-02T19:48:54.327251Z",
     "shell.execute_reply": "2022-04-02T19:48:54.327705Z",
     "shell.execute_reply.started": "2022-04-02T19:47:59.747470Z"
    },
    "papermill": {
     "duration": 0.091484,
     "end_time": "2022-04-02T19:48:54.327896",
     "exception": false,
     "start_time": "2022-04-02T19:48:54.236412",
     "status": "completed"
    },
    "tags": []
   },
   "outputs": [
    {
     "data": {
      "text/html": [
       "<div>\n",
       "<style scoped>\n",
       "    .dataframe tbody tr th:only-of-type {\n",
       "        vertical-align: middle;\n",
       "    }\n",
       "\n",
       "    .dataframe tbody tr th {\n",
       "        vertical-align: top;\n",
       "    }\n",
       "\n",
       "    .dataframe thead th {\n",
       "        text-align: right;\n",
       "    }\n",
       "</style>\n",
       "<table border=\"1\" class=\"dataframe\">\n",
       "  <thead>\n",
       "    <tr style=\"text-align: right;\">\n",
       "      <th></th>\n",
       "      <th>Survived</th>\n",
       "    </tr>\n",
       "    <tr>\n",
       "      <th>SibSp</th>\n",
       "      <th></th>\n",
       "    </tr>\n",
       "  </thead>\n",
       "  <tbody>\n",
       "    <tr>\n",
       "      <th>1</th>\n",
       "      <td>0.535885</td>\n",
       "    </tr>\n",
       "    <tr>\n",
       "      <th>2</th>\n",
       "      <td>0.464286</td>\n",
       "    </tr>\n",
       "    <tr>\n",
       "      <th>0</th>\n",
       "      <td>0.345395</td>\n",
       "    </tr>\n",
       "    <tr>\n",
       "      <th>3</th>\n",
       "      <td>0.250000</td>\n",
       "    </tr>\n",
       "    <tr>\n",
       "      <th>4</th>\n",
       "      <td>0.166667</td>\n",
       "    </tr>\n",
       "    <tr>\n",
       "      <th>5</th>\n",
       "      <td>0.000000</td>\n",
       "    </tr>\n",
       "    <tr>\n",
       "      <th>8</th>\n",
       "      <td>0.000000</td>\n",
       "    </tr>\n",
       "  </tbody>\n",
       "</table>\n",
       "</div>"
      ],
      "text/plain": [
       "       Survived\n",
       "SibSp          \n",
       "1      0.535885\n",
       "2      0.464286\n",
       "0      0.345395\n",
       "3      0.250000\n",
       "4      0.166667\n",
       "5      0.000000\n",
       "8      0.000000"
      ]
     },
     "execution_count": 11,
     "metadata": {},
     "output_type": "execute_result"
    }
   ],
   "source": [
    "train_data[['SibSp', 'Survived']].groupby(['SibSp'], as_index=True).mean().sort_values(by='Survived', ascending=False)"
   ]
  },
  {
   "cell_type": "code",
   "execution_count": 12,
   "id": "46715c89",
   "metadata": {
    "execution": {
     "iopub.execute_input": "2022-04-02T19:48:54.487239Z",
     "iopub.status.busy": "2022-04-02T19:48:54.486547Z",
     "iopub.status.idle": "2022-04-02T19:48:54.497334Z",
     "shell.execute_reply": "2022-04-02T19:48:54.497783Z",
     "shell.execute_reply.started": "2022-04-02T19:47:59.764112Z"
    },
    "papermill": {
     "duration": 0.091905,
     "end_time": "2022-04-02T19:48:54.497973",
     "exception": false,
     "start_time": "2022-04-02T19:48:54.406068",
     "status": "completed"
    },
    "tags": []
   },
   "outputs": [
    {
     "data": {
      "text/html": [
       "<div>\n",
       "<style scoped>\n",
       "    .dataframe tbody tr th:only-of-type {\n",
       "        vertical-align: middle;\n",
       "    }\n",
       "\n",
       "    .dataframe tbody tr th {\n",
       "        vertical-align: top;\n",
       "    }\n",
       "\n",
       "    .dataframe thead th {\n",
       "        text-align: right;\n",
       "    }\n",
       "</style>\n",
       "<table border=\"1\" class=\"dataframe\">\n",
       "  <thead>\n",
       "    <tr style=\"text-align: right;\">\n",
       "      <th></th>\n",
       "      <th>Survived</th>\n",
       "    </tr>\n",
       "    <tr>\n",
       "      <th>Parch</th>\n",
       "      <th></th>\n",
       "    </tr>\n",
       "  </thead>\n",
       "  <tbody>\n",
       "    <tr>\n",
       "      <th>3</th>\n",
       "      <td>0.600000</td>\n",
       "    </tr>\n",
       "    <tr>\n",
       "      <th>1</th>\n",
       "      <td>0.550847</td>\n",
       "    </tr>\n",
       "    <tr>\n",
       "      <th>2</th>\n",
       "      <td>0.500000</td>\n",
       "    </tr>\n",
       "    <tr>\n",
       "      <th>0</th>\n",
       "      <td>0.343658</td>\n",
       "    </tr>\n",
       "    <tr>\n",
       "      <th>5</th>\n",
       "      <td>0.200000</td>\n",
       "    </tr>\n",
       "    <tr>\n",
       "      <th>4</th>\n",
       "      <td>0.000000</td>\n",
       "    </tr>\n",
       "    <tr>\n",
       "      <th>6</th>\n",
       "      <td>0.000000</td>\n",
       "    </tr>\n",
       "  </tbody>\n",
       "</table>\n",
       "</div>"
      ],
      "text/plain": [
       "       Survived\n",
       "Parch          \n",
       "3      0.600000\n",
       "1      0.550847\n",
       "2      0.500000\n",
       "0      0.343658\n",
       "5      0.200000\n",
       "4      0.000000\n",
       "6      0.000000"
      ]
     },
     "execution_count": 12,
     "metadata": {},
     "output_type": "execute_result"
    }
   ],
   "source": [
    "train_data[['Parch', 'Survived']].groupby(['Parch'], as_index=True).mean().sort_values(by='Survived', ascending=False)"
   ]
  },
  {
   "cell_type": "markdown",
   "id": "c6458508",
   "metadata": {
    "papermill": {
     "duration": 0.079883,
     "end_time": "2022-04-02T19:48:54.656733",
     "exception": false,
     "start_time": "2022-04-02T19:48:54.576850",
     "status": "completed"
    },
    "tags": []
   },
   "source": [
    "**Analyze by data visualization**\n",
    "\n",
    "1. Numeric feature: Age - Survived: Mostly age group 18 - 30 did not survive -> Feature kept, fill missing values, create age groups\n",
    "\n",
    "2. Numeric Ordinal feature: Age - Pclass - Survived: Most people in Class1 survived, whereas most people in Class3 did not; Most infants in Class3 survived. -> Feature kept\n",
    "\n",
    "3. Categorical feature:Embarked - Pclass - Sex - Survived: Feature kept, filling missing values\n",
    "\n",
    "4. Categorial & numerical features: Fare - Survived Higher fare paying passengers had better survival. Feature fare kept and creat groups."
   ]
  },
  {
   "cell_type": "code",
   "execution_count": 13,
   "id": "e66b7c11",
   "metadata": {
    "execution": {
     "iopub.execute_input": "2022-04-02T19:48:54.819232Z",
     "iopub.status.busy": "2022-04-02T19:48:54.818582Z",
     "iopub.status.idle": "2022-04-02T19:48:55.919600Z",
     "shell.execute_reply": "2022-04-02T19:48:55.918993Z",
     "shell.execute_reply.started": "2022-04-02T19:47:59.782931Z"
    },
    "papermill": {
     "duration": 1.182533,
     "end_time": "2022-04-02T19:48:55.919741",
     "exception": false,
     "start_time": "2022-04-02T19:48:54.737208",
     "status": "completed"
    },
    "tags": []
   },
   "outputs": [],
   "source": [
    "import seaborn as sns\n",
    "import matplotlib.pyplot as plt\n",
    "%matplotlib inline"
   ]
  },
  {
   "cell_type": "code",
   "execution_count": 14,
   "id": "e6bf8c80",
   "metadata": {
    "execution": {
     "iopub.execute_input": "2022-04-02T19:48:56.112448Z",
     "iopub.status.busy": "2022-04-02T19:48:56.111367Z",
     "iopub.status.idle": "2022-04-02T19:48:56.628410Z",
     "shell.execute_reply": "2022-04-02T19:48:56.627508Z",
     "shell.execute_reply.started": "2022-04-02T19:47:59.791444Z"
    },
    "papermill": {
     "duration": 0.616619,
     "end_time": "2022-04-02T19:48:56.628555",
     "exception": false,
     "start_time": "2022-04-02T19:48:56.011936",
     "status": "completed"
    },
    "tags": []
   },
   "outputs": [
    {
     "data": {
      "text/plain": [
       "<seaborn.axisgrid.FacetGrid at 0x7f76c865c210>"
      ]
     },
     "execution_count": 14,
     "metadata": {},
     "output_type": "execute_result"
    },
    {
     "data": {
      "image/png": "[encoded data removed]",
      "text/plain": [
       "<Figure size 432x216 with 2 Axes>"
      ]
     },
     "metadata": {
      "needs_background": "light"
     },
     "output_type": "display_data"
    }
   ],
   "source": [
    "age = sns.FacetGrid(train_data, col='Survived')\n",
    "age.map(plt.hist, 'Age', bins = 20)"
   ]
  },
  {
   "cell_type": "code",
   "execution_count": 15,
   "id": "221efb7d",
   "metadata": {
    "execution": {
     "iopub.execute_input": "2022-04-02T19:48:56.797414Z",
     "iopub.status.busy": "2022-04-02T19:48:56.796798Z",
     "iopub.status.idle": "2022-04-02T19:48:58.084492Z",
     "shell.execute_reply": "2022-04-02T19:48:58.083911Z",
     "shell.execute_reply.started": "2022-04-02T19:48:00.279893Z"
    },
    "papermill": {
     "duration": 1.370016,
     "end_time": "2022-04-02T19:48:58.084640",
     "exception": false,
     "start_time": "2022-04-02T19:48:56.714624",
     "status": "completed"
    },
    "tags": []
   },
   "outputs": [
    {
     "data": {
      "image/png": "[encoded data removed]",
      "text/plain": [
       "<Figure size 296x432 with 6 Axes>"
      ]
     },
     "metadata": {
      "needs_background": "light"
     },
     "output_type": "display_data"
    }
   ],
   "source": [
    "pclass = sns.FacetGrid(train_data, col='Survived', row='Pclass',height=2, aspect=1)\n",
    "pclass.map(plt.hist, 'Age', bins=20)\n",
    "pclass.add_legend();"
   ]
  },
  {
   "cell_type": "code",
   "execution_count": 16,
   "id": "ccc5467e",
   "metadata": {
    "execution": {
     "iopub.execute_input": "2022-04-02T19:48:58.249768Z",
     "iopub.status.busy": "2022-04-02T19:48:58.249085Z",
     "iopub.status.idle": "2022-04-02T19:48:59.694982Z",
     "shell.execute_reply": "2022-04-02T19:48:59.694313Z",
     "shell.execute_reply.started": "2022-04-02T19:48:01.646732Z"
    },
    "papermill": {
     "duration": 1.529624,
     "end_time": "2022-04-02T19:48:59.695129",
     "exception": false,
     "start_time": "2022-04-02T19:48:58.165505",
     "status": "completed"
    },
    "tags": []
   },
   "outputs": [
    {
     "data": {
      "text/plain": [
       "<seaborn.axisgrid.FacetGrid at 0x7f76c600d110>"
      ]
     },
     "execution_count": 16,
     "metadata": {},
     "output_type": "execute_result"
    },
    {
     "data": {
      "image/png": "[encoded data removed]",
      "text/plain": [
       "<Figure size 790.5x432 with 3 Axes>"
      ]
     },
     "metadata": {
      "needs_background": "light"
     },
     "output_type": "display_data"
    }
   ],
   "source": [
    "embarked = sns.FacetGrid(train_data, row='Embarked', height=2, aspect=5)\n",
    "embarked.map(sns.pointplot, 'Pclass','Survived', 'Sex', paletee='deep', order=[1, 2, 3], hue_order=[\"male\", \"female\"])\n",
    "embarked.add_legend()\n",
    "\n"
   ]
  },
  {
   "cell_type": "code",
   "execution_count": 17,
   "id": "324f3f7b",
   "metadata": {
    "execution": {
     "iopub.execute_input": "2022-04-02T19:48:59.868014Z",
     "iopub.status.busy": "2022-04-02T19:48:59.867302Z",
     "iopub.status.idle": "2022-04-02T19:49:00.843681Z",
     "shell.execute_reply": "2022-04-02T19:49:00.844231Z",
     "shell.execute_reply.started": "2022-04-02T19:48:03.171529Z"
    },
    "papermill": {
     "duration": 1.065061,
     "end_time": "2022-04-02T19:49:00.844415",
     "exception": false,
     "start_time": "2022-04-02T19:48:59.779354",
     "status": "completed"
    },
    "tags": []
   },
   "outputs": [
    {
     "data": {
      "text/plain": [
       "<seaborn.axisgrid.FacetGrid at 0x7f76c5ee0590>"
      ]
     },
     "execution_count": 17,
     "metadata": {},
     "output_type": "execute_result"
    },
    {
     "data": {
      "image/png": "[encoded data removed]",
      "text/plain": [
       "<Figure size 584x432 with 6 Axes>"
      ]
     },
     "metadata": {
      "needs_background": "light"
     },
     "output_type": "display_data"
    }
   ],
   "source": [
    "fare = sns.FacetGrid(train_data, row='Embarked', col='Survived', height=2, aspect=2)\n",
    "fare.map(sns.barplot, 'Sex', 'Fare', alpha=0.3, ci=None, order=['female', 'male'])\n",
    "fare.add_legend()"
   ]
  },
  {
   "cell_type": "markdown",
   "id": "1bdee7f1",
   "metadata": {
    "papermill": {
     "duration": 0.08799,
     "end_time": "2022-04-02T19:49:01.017416",
     "exception": false,
     "start_time": "2022-04-02T19:49:00.929426",
     "status": "completed"
    },
    "tags": []
   },
   "source": [
    "**Wrangle Data**"
   ]
  },
  {
   "cell_type": "markdown",
   "id": "2dc4bbfe",
   "metadata": {
    "papermill": {
     "duration": 0.08401,
     "end_time": "2022-04-02T19:49:01.186180",
     "exception": false,
     "start_time": "2022-04-02T19:49:01.102170",
     "status": "completed"
    },
    "tags": []
   },
   "source": [
    "1. dropping features"
   ]
  },
  {
   "cell_type": "code",
   "execution_count": 18,
   "id": "3f0c8ced",
   "metadata": {
    "execution": {
     "iopub.execute_input": "2022-04-02T19:49:01.359179Z",
     "iopub.status.busy": "2022-04-02T19:49:01.358306Z",
     "iopub.status.idle": "2022-04-02T19:49:01.362203Z",
     "shell.execute_reply": "2022-04-02T19:49:01.361646Z",
     "shell.execute_reply.started": "2022-04-02T19:48:04.160827Z"
    },
    "papermill": {
     "duration": 0.09283,
     "end_time": "2022-04-02T19:49:01.362358",
     "exception": false,
     "start_time": "2022-04-02T19:49:01.269528",
     "status": "completed"
    },
    "tags": []
   },
   "outputs": [
    {
     "name": "stdout",
     "output_type": "stream",
     "text": [
      "Before (891, 12) (418, 11) (891, 12) (418, 11)\n"
     ]
    }
   ],
   "source": [
    "print(\"Before\", train_data.shape, test_data.shape, combine[0].shape, combine[1].shape)\n"
   ]
  },
  {
   "cell_type": "code",
   "execution_count": 19,
   "id": "628e4218",
   "metadata": {
    "execution": {
     "iopub.execute_input": "2022-04-02T19:49:01.538739Z",
     "iopub.status.busy": "2022-04-02T19:49:01.537875Z",
     "iopub.status.idle": "2022-04-02T19:49:01.541443Z",
     "shell.execute_reply": "2022-04-02T19:49:01.541935Z",
     "shell.execute_reply.started": "2022-04-02T19:48:04.168245Z"
    },
    "papermill": {
     "duration": 0.095596,
     "end_time": "2022-04-02T19:49:01.542104",
     "exception": false,
     "start_time": "2022-04-02T19:49:01.446508",
     "status": "completed"
    },
    "tags": []
   },
   "outputs": [
    {
     "name": "stdout",
     "output_type": "stream",
     "text": [
      "After (891, 10) (418, 9) (891, 12) (418, 11)\n"
     ]
    }
   ],
   "source": [
    "train_data = train_data.drop(['Ticket', 'Cabin'], axis=1)\n",
    "test_data = test_data.drop(['Ticket', 'Cabin'], axis=1)\n",
    "\n",
    "\n",
    "print(\"After\", train_data.shape, test_data.shape, combine[0].shape, combine[1].shape)\n"
   ]
  },
  {
   "cell_type": "code",
   "execution_count": 20,
   "id": "12b3b519",
   "metadata": {
    "execution": {
     "iopub.execute_input": "2022-04-02T19:49:01.728022Z",
     "iopub.status.busy": "2022-04-02T19:49:01.727326Z",
     "iopub.status.idle": "2022-04-02T19:49:01.730712Z",
     "shell.execute_reply": "2022-04-02T19:49:01.730173Z",
     "shell.execute_reply.started": "2022-04-02T19:48:04.181351Z"
    },
    "papermill": {
     "duration": 0.102839,
     "end_time": "2022-04-02T19:49:01.730997",
     "exception": false,
     "start_time": "2022-04-02T19:49:01.628158",
     "status": "completed"
    },
    "tags": []
   },
   "outputs": [],
   "source": [
    "combine=[train_data, test_data]"
   ]
  },
  {
   "cell_type": "markdown",
   "id": "13db311b",
   "metadata": {
    "papermill": {
     "duration": 0.085321,
     "end_time": "2022-04-02T19:49:01.916541",
     "exception": false,
     "start_time": "2022-04-02T19:49:01.831220",
     "status": "completed"
    },
    "tags": []
   },
   "source": [
    "**Create an ordinal feature Title in training set and testing set**"
   ]
  },
  {
   "cell_type": "code",
   "execution_count": 21,
   "id": "896cddf1",
   "metadata": {
    "execution": {
     "iopub.execute_input": "2022-04-02T19:49:02.093676Z",
     "iopub.status.busy": "2022-04-02T19:49:02.093005Z",
     "iopub.status.idle": "2022-04-02T19:49:02.119660Z",
     "shell.execute_reply": "2022-04-02T19:49:02.119150Z",
     "shell.execute_reply.started": "2022-04-02T19:48:04.190041Z"
    },
    "papermill": {
     "duration": 0.118203,
     "end_time": "2022-04-02T19:49:02.119816",
     "exception": false,
     "start_time": "2022-04-02T19:49:02.001613",
     "status": "completed"
    },
    "tags": []
   },
   "outputs": [
    {
     "data": {
      "text/html": [
       "<div>\n",
       "<style scoped>\n",
       "    .dataframe tbody tr th:only-of-type {\n",
       "        vertical-align: middle;\n",
       "    }\n",
       "\n",
       "    .dataframe tbody tr th {\n",
       "        vertical-align: top;\n",
       "    }\n",
       "\n",
       "    .dataframe thead th {\n",
       "        text-align: right;\n",
       "    }\n",
       "</style>\n",
       "<table border=\"1\" class=\"dataframe\">\n",
       "  <thead>\n",
       "    <tr style=\"text-align: right;\">\n",
       "      <th>Sex</th>\n",
       "      <th>female</th>\n",
       "      <th>male</th>\n",
       "    </tr>\n",
       "    <tr>\n",
       "      <th>Title</th>\n",
       "      <th></th>\n",
       "      <th></th>\n",
       "    </tr>\n",
       "  </thead>\n",
       "  <tbody>\n",
       "    <tr>\n",
       "      <th>Capt</th>\n",
       "      <td>0</td>\n",
       "      <td>1</td>\n",
       "    </tr>\n",
       "    <tr>\n",
       "      <th>Col</th>\n",
       "      <td>0</td>\n",
       "      <td>2</td>\n",
       "    </tr>\n",
       "    <tr>\n",
       "      <th>Countess</th>\n",
       "      <td>1</td>\n",
       "      <td>0</td>\n",
       "    </tr>\n",
       "    <tr>\n",
       "      <th>Don</th>\n",
       "      <td>0</td>\n",
       "      <td>1</td>\n",
       "    </tr>\n",
       "    <tr>\n",
       "      <th>Dr</th>\n",
       "      <td>1</td>\n",
       "      <td>6</td>\n",
       "    </tr>\n",
       "    <tr>\n",
       "      <th>Jonkheer</th>\n",
       "      <td>0</td>\n",
       "      <td>1</td>\n",
       "    </tr>\n",
       "    <tr>\n",
       "      <th>Lady</th>\n",
       "      <td>1</td>\n",
       "      <td>0</td>\n",
       "    </tr>\n",
       "    <tr>\n",
       "      <th>Major</th>\n",
       "      <td>0</td>\n",
       "      <td>2</td>\n",
       "    </tr>\n",
       "    <tr>\n",
       "      <th>Master</th>\n",
       "      <td>0</td>\n",
       "      <td>40</td>\n",
       "    </tr>\n",
       "    <tr>\n",
       "      <th>Miss</th>\n",
       "      <td>182</td>\n",
       "      <td>0</td>\n",
       "    </tr>\n",
       "    <tr>\n",
       "      <th>Mlle</th>\n",
       "      <td>2</td>\n",
       "      <td>0</td>\n",
       "    </tr>\n",
       "    <tr>\n",
       "      <th>Mme</th>\n",
       "      <td>1</td>\n",
       "      <td>0</td>\n",
       "    </tr>\n",
       "    <tr>\n",
       "      <th>Mr</th>\n",
       "      <td>0</td>\n",
       "      <td>517</td>\n",
       "    </tr>\n",
       "    <tr>\n",
       "      <th>Mrs</th>\n",
       "      <td>125</td>\n",
       "      <td>0</td>\n",
       "    </tr>\n",
       "    <tr>\n",
       "      <th>Ms</th>\n",
       "      <td>1</td>\n",
       "      <td>0</td>\n",
       "    </tr>\n",
       "    <tr>\n",
       "      <th>Rev</th>\n",
       "      <td>0</td>\n",
       "      <td>6</td>\n",
       "    </tr>\n",
       "    <tr>\n",
       "      <th>Sir</th>\n",
       "      <td>0</td>\n",
       "      <td>1</td>\n",
       "    </tr>\n",
       "  </tbody>\n",
       "</table>\n",
       "</div>"
      ],
      "text/plain": [
       "Sex       female  male\n",
       "Title                 \n",
       "Capt           0     1\n",
       "Col            0     2\n",
       "Countess       1     0\n",
       "Don            0     1\n",
       "Dr             1     6\n",
       "Jonkheer       0     1\n",
       "Lady           1     0\n",
       "Major          0     2\n",
       "Master         0    40\n",
       "Miss         182     0\n",
       "Mlle           2     0\n",
       "Mme            1     0\n",
       "Mr             0   517\n",
       "Mrs          125     0\n",
       "Ms             1     0\n",
       "Rev            0     6\n",
       "Sir            0     1"
      ]
     },
     "execution_count": 21,
     "metadata": {},
     "output_type": "execute_result"
    }
   ],
   "source": [
    "for dataset in combine:\n",
    "    dataset['Title'] = dataset.Name.str.extract(' ([A-Za-z]+)\\.', expand=False)\n",
    "train_data.head()\n",
    "pd.crosstab(train_data['Title'], train_data['Sex'])"
   ]
  },
  {
   "cell_type": "code",
   "execution_count": 22,
   "id": "4a5925e7",
   "metadata": {
    "execution": {
     "iopub.execute_input": "2022-04-02T19:49:02.292557Z",
     "iopub.status.busy": "2022-04-02T19:49:02.291942Z",
     "iopub.status.idle": "2022-04-02T19:49:02.312467Z",
     "shell.execute_reply": "2022-04-02T19:49:02.312982Z",
     "shell.execute_reply.started": "2022-04-02T19:48:04.222100Z"
    },
    "papermill": {
     "duration": 0.108249,
     "end_time": "2022-04-02T19:49:02.313149",
     "exception": false,
     "start_time": "2022-04-02T19:49:02.204900",
     "status": "completed"
    },
    "tags": []
   },
   "outputs": [
    {
     "data": {
      "text/html": [
       "<div>\n",
       "<style scoped>\n",
       "    .dataframe tbody tr th:only-of-type {\n",
       "        vertical-align: middle;\n",
       "    }\n",
       "\n",
       "    .dataframe tbody tr th {\n",
       "        vertical-align: top;\n",
       "    }\n",
       "\n",
       "    .dataframe thead th {\n",
       "        text-align: right;\n",
       "    }\n",
       "</style>\n",
       "<table border=\"1\" class=\"dataframe\">\n",
       "  <thead>\n",
       "    <tr style=\"text-align: right;\">\n",
       "      <th></th>\n",
       "      <th>Title</th>\n",
       "      <th>Survived</th>\n",
       "    </tr>\n",
       "  </thead>\n",
       "  <tbody>\n",
       "    <tr>\n",
       "      <th>0</th>\n",
       "      <td>Master</td>\n",
       "      <td>0.575000</td>\n",
       "    </tr>\n",
       "    <tr>\n",
       "      <th>1</th>\n",
       "      <td>Miss</td>\n",
       "      <td>0.702703</td>\n",
       "    </tr>\n",
       "    <tr>\n",
       "      <th>2</th>\n",
       "      <td>Mr</td>\n",
       "      <td>0.156673</td>\n",
       "    </tr>\n",
       "    <tr>\n",
       "      <th>3</th>\n",
       "      <td>Mrs</td>\n",
       "      <td>0.793651</td>\n",
       "    </tr>\n",
       "    <tr>\n",
       "      <th>4</th>\n",
       "      <td>Rare</td>\n",
       "      <td>0.347826</td>\n",
       "    </tr>\n",
       "  </tbody>\n",
       "</table>\n",
       "</div>"
      ],
      "text/plain": [
       "    Title  Survived\n",
       "0  Master  0.575000\n",
       "1    Miss  0.702703\n",
       "2      Mr  0.156673\n",
       "3     Mrs  0.793651\n",
       "4    Rare  0.347826"
      ]
     },
     "execution_count": 22,
     "metadata": {},
     "output_type": "execute_result"
    }
   ],
   "source": [
    "for dataset in combine:\n",
    "    dataset['Title'] = dataset['Title'].replace(['Lady', 'Countess','Capt', 'Col', 'Don', 'Dr', 'Major', 'Rev', 'Sir', 'Jonkheer', 'Dona'], 'Rare')\n",
    "    dataset['Title'] = dataset['Title'].replace('Mlle', 'Miss')\n",
    "    dataset['Title'] = dataset['Title'].replace('Ms', 'Miss')\n",
    "    dataset['Title'] = dataset['Title'].replace('Mme', 'Mrs')\n",
    "train_data[['Title', 'Survived']].groupby(['Title'], as_index=False).mean()"
   ]
  },
  {
   "cell_type": "code",
   "execution_count": 23,
   "id": "ef2e8097",
   "metadata": {
    "execution": {
     "iopub.execute_input": "2022-04-02T19:49:02.486780Z",
     "iopub.status.busy": "2022-04-02T19:49:02.486161Z",
     "iopub.status.idle": "2022-04-02T19:49:02.498293Z",
     "shell.execute_reply": "2022-04-02T19:49:02.498879Z",
     "shell.execute_reply.started": "2022-04-02T19:48:04.249642Z"
    },
    "papermill": {
     "duration": 0.100471,
     "end_time": "2022-04-02T19:49:02.499041",
     "exception": false,
     "start_time": "2022-04-02T19:49:02.398570",
     "status": "completed"
    },
    "tags": []
   },
   "outputs": [
    {
     "data": {
      "text/plain": [
       "((891, 9), (418, 9))"
      ]
     },
     "execution_count": 23,
     "metadata": {},
     "output_type": "execute_result"
    }
   ],
   "source": [
    "title_mapping = {\"Mr\":1, \"Miss\":2, \"Mrs\":3, \"Master\":4, \"Rare\":5}\n",
    "for dataset in combine:\n",
    "    dataset['Title'] = dataset['Title'].map(title_mapping)\n",
    "    dataset['Title'] = dataset['Title'].fillna(0)\n",
    "train_data = train_data.drop(['Name','PassengerId'], axis=1)\n",
    "test_data = test_data.drop(['Name'], axis=1)\n",
    "combine = [train_data, test_data]\n",
    "train_data.shape, test_data.shape"
   ]
  },
  {
   "cell_type": "markdown",
   "id": "c85fa6d1",
   "metadata": {
    "papermill": {
     "duration": 0.085648,
     "end_time": "2022-04-02T19:49:02.670218",
     "exception": false,
     "start_time": "2022-04-02T19:49:02.584570",
     "status": "completed"
    },
    "tags": []
   },
   "source": [
    "Converting feature:Sex to 0 and 1"
   ]
  },
  {
   "cell_type": "code",
   "execution_count": 24,
   "id": "b2dea240",
   "metadata": {
    "execution": {
     "iopub.execute_input": "2022-04-02T19:49:02.844980Z",
     "iopub.status.busy": "2022-04-02T19:49:02.844321Z",
     "iopub.status.idle": "2022-04-02T19:49:02.861155Z",
     "shell.execute_reply": "2022-04-02T19:49:02.860424Z",
     "shell.execute_reply.started": "2022-04-02T19:48:04.266240Z"
    },
    "papermill": {
     "duration": 0.105324,
     "end_time": "2022-04-02T19:49:02.861324",
     "exception": false,
     "start_time": "2022-04-02T19:49:02.756000",
     "status": "completed"
    },
    "tags": []
   },
   "outputs": [
    {
     "data": {
      "text/html": [
       "<div>\n",
       "<style scoped>\n",
       "    .dataframe tbody tr th:only-of-type {\n",
       "        vertical-align: middle;\n",
       "    }\n",
       "\n",
       "    .dataframe tbody tr th {\n",
       "        vertical-align: top;\n",
       "    }\n",
       "\n",
       "    .dataframe thead th {\n",
       "        text-align: right;\n",
       "    }\n",
       "</style>\n",
       "<table border=\"1\" class=\"dataframe\">\n",
       "  <thead>\n",
       "    <tr style=\"text-align: right;\">\n",
       "      <th></th>\n",
       "      <th>Survived</th>\n",
       "      <th>Pclass</th>\n",
       "      <th>Sex</th>\n",
       "      <th>Age</th>\n",
       "      <th>SibSp</th>\n",
       "      <th>Parch</th>\n",
       "      <th>Fare</th>\n",
       "      <th>Embarked</th>\n",
       "      <th>Title</th>\n",
       "    </tr>\n",
       "  </thead>\n",
       "  <tbody>\n",
       "    <tr>\n",
       "      <th>0</th>\n",
       "      <td>0</td>\n",
       "      <td>3</td>\n",
       "      <td>0</td>\n",
       "      <td>22.0</td>\n",
       "      <td>1</td>\n",
       "      <td>0</td>\n",
       "      <td>7.2500</td>\n",
       "      <td>S</td>\n",
       "      <td>1</td>\n",
       "    </tr>\n",
       "    <tr>\n",
       "      <th>1</th>\n",
       "      <td>1</td>\n",
       "      <td>1</td>\n",
       "      <td>1</td>\n",
       "      <td>38.0</td>\n",
       "      <td>1</td>\n",
       "      <td>0</td>\n",
       "      <td>71.2833</td>\n",
       "      <td>C</td>\n",
       "      <td>3</td>\n",
       "    </tr>\n",
       "    <tr>\n",
       "      <th>2</th>\n",
       "      <td>1</td>\n",
       "      <td>3</td>\n",
       "      <td>1</td>\n",
       "      <td>26.0</td>\n",
       "      <td>0</td>\n",
       "      <td>0</td>\n",
       "      <td>7.9250</td>\n",
       "      <td>S</td>\n",
       "      <td>2</td>\n",
       "    </tr>\n",
       "    <tr>\n",
       "      <th>3</th>\n",
       "      <td>1</td>\n",
       "      <td>1</td>\n",
       "      <td>1</td>\n",
       "      <td>35.0</td>\n",
       "      <td>1</td>\n",
       "      <td>0</td>\n",
       "      <td>53.1000</td>\n",
       "      <td>S</td>\n",
       "      <td>3</td>\n",
       "    </tr>\n",
       "    <tr>\n",
       "      <th>4</th>\n",
       "      <td>0</td>\n",
       "      <td>3</td>\n",
       "      <td>0</td>\n",
       "      <td>35.0</td>\n",
       "      <td>0</td>\n",
       "      <td>0</td>\n",
       "      <td>8.0500</td>\n",
       "      <td>S</td>\n",
       "      <td>1</td>\n",
       "    </tr>\n",
       "  </tbody>\n",
       "</table>\n",
       "</div>"
      ],
      "text/plain": [
       "   Survived  Pclass  Sex   Age  SibSp  Parch     Fare Embarked  Title\n",
       "0         0       3    0  22.0      1      0   7.2500        S      1\n",
       "1         1       1    1  38.0      1      0  71.2833        C      3\n",
       "2         1       3    1  26.0      0      0   7.9250        S      2\n",
       "3         1       1    1  35.0      1      0  53.1000        S      3\n",
       "4         0       3    0  35.0      0      0   8.0500        S      1"
      ]
     },
     "execution_count": 24,
     "metadata": {},
     "output_type": "execute_result"
    }
   ],
   "source": [
    "for dataset in combine:\n",
    "    dataset['Sex'] = dataset['Sex'].map({'female':1, 'male':0}).astype(int)\n",
    "train_data.head()\n",
    "    "
   ]
  },
  {
   "cell_type": "markdown",
   "id": "ba262708",
   "metadata": {
    "papermill": {
     "duration": 0.086383,
     "end_time": "2022-04-02T19:49:03.036199",
     "exception": false,
     "start_time": "2022-04-02T19:49:02.949816",
     "status": "completed"
    },
    "tags": []
   },
   "source": [
    "Complete and Convert a numerical continuous feature: Age"
   ]
  },
  {
   "cell_type": "code",
   "execution_count": 25,
   "id": "87884a42",
   "metadata": {
    "execution": {
     "iopub.execute_input": "2022-04-02T19:49:03.215762Z",
     "iopub.status.busy": "2022-04-02T19:49:03.215120Z",
     "iopub.status.idle": "2022-04-02T19:49:04.605857Z",
     "shell.execute_reply": "2022-04-02T19:49:04.605277Z",
     "shell.execute_reply.started": "2022-04-02T19:48:04.284703Z"
    },
    "papermill": {
     "duration": 1.480579,
     "end_time": "2022-04-02T19:49:04.605996",
     "exception": false,
     "start_time": "2022-04-02T19:49:03.125417",
     "status": "completed"
    },
    "tags": []
   },
   "outputs": [
    {
     "data": {
      "text/plain": [
       "<seaborn.axisgrid.FacetGrid at 0x7f76c5b31350>"
      ]
     },
     "execution_count": 25,
     "metadata": {},
     "output_type": "execute_result"
    },
    {
     "data": {
      "image/png": "[encoded data removed]",
      "text/plain": [
       "<Figure size 584x432 with 6 Axes>"
      ]
     },
     "metadata": {
      "needs_background": "light"
     },
     "output_type": "display_data"
    }
   ],
   "source": [
    "age = sns.FacetGrid(train_data, row='Pclass', col='Sex', height=2, aspect=2)\n",
    "age.map(plt.hist, 'Age', bins=20)\n",
    "age.add_legend()"
   ]
  },
  {
   "cell_type": "markdown",
   "id": "5f8e7807",
   "metadata": {
    "papermill": {
     "duration": 0.087967,
     "end_time": "2022-04-02T19:49:04.781541",
     "exception": false,
     "start_time": "2022-04-02T19:49:04.693574",
     "status": "completed"
    },
    "tags": []
   },
   "source": [
    "Generate an array to contain Pclass-Sex age values"
   ]
  },
  {
   "cell_type": "code",
   "execution_count": 26,
   "id": "01db19ab",
   "metadata": {
    "execution": {
     "iopub.execute_input": "2022-04-02T19:49:04.964988Z",
     "iopub.status.busy": "2022-04-02T19:49:04.964288Z",
     "iopub.status.idle": "2022-04-02T19:49:04.969153Z",
     "shell.execute_reply": "2022-04-02T19:49:04.969583Z",
     "shell.execute_reply.started": "2022-04-02T19:48:05.699723Z"
    },
    "papermill": {
     "duration": 0.099859,
     "end_time": "2022-04-02T19:49:04.969757",
     "exception": false,
     "start_time": "2022-04-02T19:49:04.869898",
     "status": "completed"
    },
    "tags": []
   },
   "outputs": [
    {
     "data": {
      "text/plain": [
       "array([[0., 0., 0.],\n",
       "       [0., 0., 0.]])"
      ]
     },
     "execution_count": 26,
     "metadata": {},
     "output_type": "execute_result"
    }
   ],
   "source": [
    "import numpy as np\n",
    "guess_age = np.zeros((2,3))\n",
    "guess_age"
   ]
  },
  {
   "cell_type": "markdown",
   "id": "de9cb56d",
   "metadata": {
    "papermill": {
     "duration": 0.088437,
     "end_time": "2022-04-02T19:49:05.147408",
     "exception": false,
     "start_time": "2022-04-02T19:49:05.058971",
     "status": "completed"
    },
    "tags": []
   },
   "source": [
    "Calculate 6 entires for 6 combinations: Pclass=1 Female, Pclass=2 Female, Pclass=3 Female; Pclass=1 Male, Pclass=2 Male, Pclass=3 Male;"
   ]
  },
  {
   "cell_type": "code",
   "execution_count": 27,
   "id": "1be8ed1b",
   "metadata": {
    "execution": {
     "iopub.execute_input": "2022-04-02T19:49:05.328167Z",
     "iopub.status.busy": "2022-04-02T19:49:05.327479Z",
     "iopub.status.idle": "2022-04-02T19:49:05.370839Z",
     "shell.execute_reply": "2022-04-02T19:49:05.370312Z",
     "shell.execute_reply.started": "2022-04-02T19:48:05.707595Z"
    },
    "papermill": {
     "duration": 0.134268,
     "end_time": "2022-04-02T19:49:05.370980",
     "exception": false,
     "start_time": "2022-04-02T19:49:05.236712",
     "status": "completed"
    },
    "tags": []
   },
   "outputs": [
    {
     "name": "stdout",
     "output_type": "stream",
     "text": [
      "<class 'pandas.core.frame.DataFrame'>\n",
      "RangeIndex: 891 entries, 0 to 890\n",
      "Data columns (total 9 columns):\n",
      " #   Column    Non-Null Count  Dtype  \n",
      "---  ------    --------------  -----  \n",
      " 0   Survived  891 non-null    int64  \n",
      " 1   Pclass    891 non-null    int64  \n",
      " 2   Sex       891 non-null    int64  \n",
      " 3   Age       891 non-null    int64  \n",
      " 4   SibSp     891 non-null    int64  \n",
      " 5   Parch     891 non-null    int64  \n",
      " 6   Fare      891 non-null    float64\n",
      " 7   Embarked  889 non-null    object \n",
      " 8   Title     891 non-null    int64  \n",
      "dtypes: float64(1), int64(7), object(1)\n",
      "memory usage: 62.8+ KB\n"
     ]
    },
    {
     "data": {
      "text/plain": [
       "array([[40., 30., 24.],\n",
       "       [41., 24., 23.]])"
      ]
     },
     "execution_count": 27,
     "metadata": {},
     "output_type": "execute_result"
    }
   ],
   "source": [
    "for dataset in combine:\n",
    "    for i in range(0, 2):\n",
    "        for j in range(0, 3):\n",
    "            guess_data = dataset[(dataset['Sex']==i) & (dataset['Pclass']==j+1)]['Age'].dropna()\n",
    "            age_guess = guess_data.mean()\n",
    "            guess_age[i,j] = int(age_guess)\n",
    "    for i in range(0, 2):\n",
    "        for j in range(0, 3):\n",
    "            dataset.loc[(dataset.Age.isnull()) & (dataset.Sex == i) & (dataset.Pclass == j+1),'Age'] = guess_age[i,j]\n",
    "    dataset['Age'] = dataset['Age'].astype(int)\n",
    "train_data.head()\n",
    "train_data.info()\n",
    "guess_age"
   ]
  },
  {
   "cell_type": "markdown",
   "id": "4f2ecc6b",
   "metadata": {
    "papermill": {
     "duration": 0.088857,
     "end_time": "2022-04-02T19:49:05.548611",
     "exception": false,
     "start_time": "2022-04-02T19:49:05.459754",
     "status": "completed"
    },
    "tags": []
   },
   "source": [
    "create age cut"
   ]
  },
  {
   "cell_type": "code",
   "execution_count": 28,
   "id": "ee508f4a",
   "metadata": {
    "execution": {
     "iopub.execute_input": "2022-04-02T19:49:05.730717Z",
     "iopub.status.busy": "2022-04-02T19:49:05.730120Z",
     "iopub.status.idle": "2022-04-02T19:49:05.755076Z",
     "shell.execute_reply": "2022-04-02T19:49:05.755652Z",
     "shell.execute_reply.started": "2022-04-02T19:48:05.761531Z"
    },
    "papermill": {
     "duration": 0.117364,
     "end_time": "2022-04-02T19:49:05.755848",
     "exception": false,
     "start_time": "2022-04-02T19:49:05.638484",
     "status": "completed"
    },
    "tags": []
   },
   "outputs": [
    {
     "data": {
      "text/html": [
       "<div>\n",
       "<style scoped>\n",
       "    .dataframe tbody tr th:only-of-type {\n",
       "        vertical-align: middle;\n",
       "    }\n",
       "\n",
       "    .dataframe tbody tr th {\n",
       "        vertical-align: top;\n",
       "    }\n",
       "\n",
       "    .dataframe thead th {\n",
       "        text-align: right;\n",
       "    }\n",
       "</style>\n",
       "<table border=\"1\" class=\"dataframe\">\n",
       "  <thead>\n",
       "    <tr style=\"text-align: right;\">\n",
       "      <th></th>\n",
       "      <th>Age_cut</th>\n",
       "      <th>Survived</th>\n",
       "    </tr>\n",
       "  </thead>\n",
       "  <tbody>\n",
       "    <tr>\n",
       "      <th>0</th>\n",
       "      <td>(-0.08, 16.0]</td>\n",
       "      <td>0.550000</td>\n",
       "    </tr>\n",
       "    <tr>\n",
       "      <th>1</th>\n",
       "      <td>(16.0, 32.0]</td>\n",
       "      <td>0.337374</td>\n",
       "    </tr>\n",
       "    <tr>\n",
       "      <th>2</th>\n",
       "      <td>(32.0, 48.0]</td>\n",
       "      <td>0.412037</td>\n",
       "    </tr>\n",
       "    <tr>\n",
       "      <th>3</th>\n",
       "      <td>(48.0, 64.0]</td>\n",
       "      <td>0.434783</td>\n",
       "    </tr>\n",
       "    <tr>\n",
       "      <th>4</th>\n",
       "      <td>(64.0, 80.0]</td>\n",
       "      <td>0.090909</td>\n",
       "    </tr>\n",
       "  </tbody>\n",
       "</table>\n",
       "</div>"
      ],
      "text/plain": [
       "         Age_cut  Survived\n",
       "0  (-0.08, 16.0]  0.550000\n",
       "1   (16.0, 32.0]  0.337374\n",
       "2   (32.0, 48.0]  0.412037\n",
       "3   (48.0, 64.0]  0.434783\n",
       "4   (64.0, 80.0]  0.090909"
      ]
     },
     "execution_count": 28,
     "metadata": {},
     "output_type": "execute_result"
    }
   ],
   "source": [
    "train_data['Age_cut'] = pd.cut(train_data['Age'], 5)\n",
    "#train_data[['Age_cut', 'Survived']].groupby(['Age_cut'], as_index=False).mean().sort_values(by='Age_cut', ascending=True)\n",
    "train_data[['Age_cut', 'Survived']].groupby(['Age_cut'], as_index=False).mean().sort_values(by='Age_cut', ascending=True)"
   ]
  },
  {
   "cell_type": "code",
   "execution_count": 29,
   "id": "eb383049",
   "metadata": {
    "execution": {
     "iopub.execute_input": "2022-04-02T19:49:05.939805Z",
     "iopub.status.busy": "2022-04-02T19:49:05.939134Z",
     "iopub.status.idle": "2022-04-02T19:49:05.961889Z",
     "shell.execute_reply": "2022-04-02T19:49:05.962469Z",
     "shell.execute_reply.started": "2022-04-02T19:48:05.783920Z"
    },
    "papermill": {
     "duration": 0.117449,
     "end_time": "2022-04-02T19:49:05.962634",
     "exception": false,
     "start_time": "2022-04-02T19:49:05.845185",
     "status": "completed"
    },
    "tags": []
   },
   "outputs": [
    {
     "data": {
      "text/html": [
       "<div>\n",
       "<style scoped>\n",
       "    .dataframe tbody tr th:only-of-type {\n",
       "        vertical-align: middle;\n",
       "    }\n",
       "\n",
       "    .dataframe tbody tr th {\n",
       "        vertical-align: top;\n",
       "    }\n",
       "\n",
       "    .dataframe thead th {\n",
       "        text-align: right;\n",
       "    }\n",
       "</style>\n",
       "<table border=\"1\" class=\"dataframe\">\n",
       "  <thead>\n",
       "    <tr style=\"text-align: right;\">\n",
       "      <th></th>\n",
       "      <th>Survived</th>\n",
       "      <th>Pclass</th>\n",
       "      <th>Sex</th>\n",
       "      <th>Age</th>\n",
       "      <th>SibSp</th>\n",
       "      <th>Parch</th>\n",
       "      <th>Fare</th>\n",
       "      <th>Embarked</th>\n",
       "      <th>Title</th>\n",
       "      <th>Age_cut</th>\n",
       "    </tr>\n",
       "  </thead>\n",
       "  <tbody>\n",
       "    <tr>\n",
       "      <th>0</th>\n",
       "      <td>0</td>\n",
       "      <td>3</td>\n",
       "      <td>0</td>\n",
       "      <td>1</td>\n",
       "      <td>1</td>\n",
       "      <td>0</td>\n",
       "      <td>7.2500</td>\n",
       "      <td>S</td>\n",
       "      <td>1</td>\n",
       "      <td>(16.0, 32.0]</td>\n",
       "    </tr>\n",
       "    <tr>\n",
       "      <th>1</th>\n",
       "      <td>1</td>\n",
       "      <td>1</td>\n",
       "      <td>1</td>\n",
       "      <td>2</td>\n",
       "      <td>1</td>\n",
       "      <td>0</td>\n",
       "      <td>71.2833</td>\n",
       "      <td>C</td>\n",
       "      <td>3</td>\n",
       "      <td>(32.0, 48.0]</td>\n",
       "    </tr>\n",
       "    <tr>\n",
       "      <th>2</th>\n",
       "      <td>1</td>\n",
       "      <td>3</td>\n",
       "      <td>1</td>\n",
       "      <td>1</td>\n",
       "      <td>0</td>\n",
       "      <td>0</td>\n",
       "      <td>7.9250</td>\n",
       "      <td>S</td>\n",
       "      <td>2</td>\n",
       "      <td>(16.0, 32.0]</td>\n",
       "    </tr>\n",
       "    <tr>\n",
       "      <th>3</th>\n",
       "      <td>1</td>\n",
       "      <td>1</td>\n",
       "      <td>1</td>\n",
       "      <td>2</td>\n",
       "      <td>1</td>\n",
       "      <td>0</td>\n",
       "      <td>53.1000</td>\n",
       "      <td>S</td>\n",
       "      <td>3</td>\n",
       "      <td>(32.0, 48.0]</td>\n",
       "    </tr>\n",
       "    <tr>\n",
       "      <th>4</th>\n",
       "      <td>0</td>\n",
       "      <td>3</td>\n",
       "      <td>0</td>\n",
       "      <td>2</td>\n",
       "      <td>0</td>\n",
       "      <td>0</td>\n",
       "      <td>8.0500</td>\n",
       "      <td>S</td>\n",
       "      <td>1</td>\n",
       "      <td>(32.0, 48.0]</td>\n",
       "    </tr>\n",
       "  </tbody>\n",
       "</table>\n",
       "</div>"
      ],
      "text/plain": [
       "   Survived  Pclass  Sex  Age  SibSp  Parch     Fare Embarked  Title  \\\n",
       "0         0       3    0    1      1      0   7.2500        S      1   \n",
       "1         1       1    1    2      1      0  71.2833        C      3   \n",
       "2         1       3    1    1      0      0   7.9250        S      2   \n",
       "3         1       1    1    2      1      0  53.1000        S      3   \n",
       "4         0       3    0    2      0      0   8.0500        S      1   \n",
       "\n",
       "        Age_cut  \n",
       "0  (16.0, 32.0]  \n",
       "1  (32.0, 48.0]  \n",
       "2  (16.0, 32.0]  \n",
       "3  (32.0, 48.0]  \n",
       "4  (32.0, 48.0]  "
      ]
     },
     "execution_count": 29,
     "metadata": {},
     "output_type": "execute_result"
    }
   ],
   "source": [
    "#Creat ordinals age\n",
    "for dataset in combine:\n",
    "    dataset.loc[(dataset.Age <= 16), 'Age'] = 0\n",
    "    dataset.loc[(dataset.Age > 16) & (dataset.Age <= 32),'Age'] = 1\n",
    "    dataset.loc[(dataset.Age > 32) & (dataset.Age <= 48),'Age'] = 2\n",
    "    dataset.loc[(dataset.Age > 48) & (dataset.Age <= 64),'Age'] = 3\n",
    "    dataset.loc[(dataset.Age > 64),'Age'] = 4\n",
    "train_data.head()\n",
    "#remove age_cut\n",
    "#train_data = train_data.drop(['Age_cut'], axis=1)\n",
    "#train_data.head()"
   ]
  },
  {
   "cell_type": "markdown",
   "id": "fd255b37",
   "metadata": {
    "papermill": {
     "duration": 0.091182,
     "end_time": "2022-04-02T19:49:06.144806",
     "exception": false,
     "start_time": "2022-04-02T19:49:06.053624",
     "status": "completed"
    },
    "tags": []
   },
   "source": [
    "Create a feature Family size combining Parch and SibSp "
   ]
  },
  {
   "cell_type": "code",
   "execution_count": 30,
   "id": "0089333c",
   "metadata": {
    "execution": {
     "iopub.execute_input": "2022-04-02T19:49:06.328294Z",
     "iopub.status.busy": "2022-04-02T19:49:06.327594Z",
     "iopub.status.idle": "2022-04-02T19:49:06.342986Z",
     "shell.execute_reply": "2022-04-02T19:49:06.343573Z",
     "shell.execute_reply.started": "2022-04-02T19:48:05.809368Z"
    },
    "papermill": {
     "duration": 0.108735,
     "end_time": "2022-04-02T19:49:06.343751",
     "exception": false,
     "start_time": "2022-04-02T19:49:06.235016",
     "status": "completed"
    },
    "tags": []
   },
   "outputs": [
    {
     "data": {
      "text/html": [
       "<div>\n",
       "<style scoped>\n",
       "    .dataframe tbody tr th:only-of-type {\n",
       "        vertical-align: middle;\n",
       "    }\n",
       "\n",
       "    .dataframe tbody tr th {\n",
       "        vertical-align: top;\n",
       "    }\n",
       "\n",
       "    .dataframe thead th {\n",
       "        text-align: right;\n",
       "    }\n",
       "</style>\n",
       "<table border=\"1\" class=\"dataframe\">\n",
       "  <thead>\n",
       "    <tr style=\"text-align: right;\">\n",
       "      <th></th>\n",
       "      <th>Family_size</th>\n",
       "      <th>Survived</th>\n",
       "    </tr>\n",
       "  </thead>\n",
       "  <tbody>\n",
       "    <tr>\n",
       "      <th>8</th>\n",
       "      <td>11</td>\n",
       "      <td>0.000000</td>\n",
       "    </tr>\n",
       "    <tr>\n",
       "      <th>7</th>\n",
       "      <td>8</td>\n",
       "      <td>0.000000</td>\n",
       "    </tr>\n",
       "    <tr>\n",
       "      <th>6</th>\n",
       "      <td>7</td>\n",
       "      <td>0.333333</td>\n",
       "    </tr>\n",
       "    <tr>\n",
       "      <th>5</th>\n",
       "      <td>6</td>\n",
       "      <td>0.136364</td>\n",
       "    </tr>\n",
       "    <tr>\n",
       "      <th>4</th>\n",
       "      <td>5</td>\n",
       "      <td>0.200000</td>\n",
       "    </tr>\n",
       "    <tr>\n",
       "      <th>3</th>\n",
       "      <td>4</td>\n",
       "      <td>0.724138</td>\n",
       "    </tr>\n",
       "    <tr>\n",
       "      <th>2</th>\n",
       "      <td>3</td>\n",
       "      <td>0.578431</td>\n",
       "    </tr>\n",
       "    <tr>\n",
       "      <th>1</th>\n",
       "      <td>2</td>\n",
       "      <td>0.552795</td>\n",
       "    </tr>\n",
       "    <tr>\n",
       "      <th>0</th>\n",
       "      <td>1</td>\n",
       "      <td>0.303538</td>\n",
       "    </tr>\n",
       "  </tbody>\n",
       "</table>\n",
       "</div>"
      ],
      "text/plain": [
       "   Family_size  Survived\n",
       "8           11  0.000000\n",
       "7            8  0.000000\n",
       "6            7  0.333333\n",
       "5            6  0.136364\n",
       "4            5  0.200000\n",
       "3            4  0.724138\n",
       "2            3  0.578431\n",
       "1            2  0.552795\n",
       "0            1  0.303538"
      ]
     },
     "execution_count": 30,
     "metadata": {},
     "output_type": "execute_result"
    }
   ],
   "source": [
    "for dataset in combine:\n",
    "    dataset['Family_size'] = dataset['Parch'] + dataset['SibSp'] + 1\n",
    "train_data[['Family_size', 'Survived']].groupby(['Family_size'], as_index=False).mean().sort_values(by='Family_size', ascending=False)\n"
   ]
  },
  {
   "cell_type": "markdown",
   "id": "0193e12c",
   "metadata": {
    "papermill": {
     "duration": 0.090959,
     "end_time": "2022-04-02T19:49:06.525235",
     "exception": false,
     "start_time": "2022-04-02T19:49:06.434276",
     "status": "completed"
    },
    "tags": []
   },
   "source": [
    "Create feature Is_alone for 1 if Family_size=0; 0 if Family_size > 1"
   ]
  },
  {
   "cell_type": "code",
   "execution_count": 31,
   "id": "52d23d70",
   "metadata": {
    "execution": {
     "iopub.execute_input": "2022-04-02T19:49:06.709690Z",
     "iopub.status.busy": "2022-04-02T19:49:06.709076Z",
     "iopub.status.idle": "2022-04-02T19:49:06.724244Z",
     "shell.execute_reply": "2022-04-02T19:49:06.723600Z",
     "shell.execute_reply.started": "2022-04-02T19:48:05.825451Z"
    },
    "papermill": {
     "duration": 0.108172,
     "end_time": "2022-04-02T19:49:06.724382",
     "exception": false,
     "start_time": "2022-04-02T19:49:06.616210",
     "status": "completed"
    },
    "tags": []
   },
   "outputs": [
    {
     "data": {
      "text/html": [
       "<div>\n",
       "<style scoped>\n",
       "    .dataframe tbody tr th:only-of-type {\n",
       "        vertical-align: middle;\n",
       "    }\n",
       "\n",
       "    .dataframe tbody tr th {\n",
       "        vertical-align: top;\n",
       "    }\n",
       "\n",
       "    .dataframe thead th {\n",
       "        text-align: right;\n",
       "    }\n",
       "</style>\n",
       "<table border=\"1\" class=\"dataframe\">\n",
       "  <thead>\n",
       "    <tr style=\"text-align: right;\">\n",
       "      <th></th>\n",
       "      <th>Is_alone</th>\n",
       "      <th>Survived</th>\n",
       "    </tr>\n",
       "  </thead>\n",
       "  <tbody>\n",
       "    <tr>\n",
       "      <th>0</th>\n",
       "      <td>0</td>\n",
       "      <td>0.505650</td>\n",
       "    </tr>\n",
       "    <tr>\n",
       "      <th>1</th>\n",
       "      <td>1</td>\n",
       "      <td>0.303538</td>\n",
       "    </tr>\n",
       "  </tbody>\n",
       "</table>\n",
       "</div>"
      ],
      "text/plain": [
       "   Is_alone  Survived\n",
       "0         0  0.505650\n",
       "1         1  0.303538"
      ]
     },
     "execution_count": 31,
     "metadata": {},
     "output_type": "execute_result"
    }
   ],
   "source": [
    "for dataset in combine:\n",
    "    dataset['Is_alone'] = 0\n",
    "    dataset.loc[dataset['Family_size']==1, 'Is_alone'] = 1\n",
    "train_data.head()\n",
    "train_data[['Is_alone', 'Survived']].groupby(['Is_alone'], as_index=False).mean()"
   ]
  },
  {
   "cell_type": "markdown",
   "id": "b836d23f",
   "metadata": {
    "papermill": {
     "duration": 0.091431,
     "end_time": "2022-04-02T19:49:06.907018",
     "exception": false,
     "start_time": "2022-04-02T19:49:06.815587",
     "status": "completed"
    },
    "tags": []
   },
   "source": [
    "drop parch, sibsp, family_size "
   ]
  },
  {
   "cell_type": "code",
   "execution_count": 32,
   "id": "a36a3121",
   "metadata": {
    "execution": {
     "iopub.execute_input": "2022-04-02T19:49:07.092962Z",
     "iopub.status.busy": "2022-04-02T19:49:07.092343Z",
     "iopub.status.idle": "2022-04-02T19:49:07.098296Z",
     "shell.execute_reply": "2022-04-02T19:49:07.098919Z",
     "shell.execute_reply.started": "2022-04-02T19:48:05.846095Z"
    },
    "papermill": {
     "duration": 0.100649,
     "end_time": "2022-04-02T19:49:07.099076",
     "exception": false,
     "start_time": "2022-04-02T19:49:06.998427",
     "status": "completed"
    },
    "tags": []
   },
   "outputs": [],
   "source": [
    "\n",
    "\n",
    "train_data = train_data.drop(['Parch', 'SibSp', 'Family_size'], axis=1)\n",
    "test_data = test_data.drop(['Parch', 'SibSp', 'Family_size'], axis=1)\n",
    "combine = [train_data, test_data]"
   ]
  },
  {
   "cell_type": "code",
   "execution_count": 33,
   "id": "348d7752",
   "metadata": {
    "execution": {
     "iopub.execute_input": "2022-04-02T19:49:07.285446Z",
     "iopub.status.busy": "2022-04-02T19:49:07.284862Z",
     "iopub.status.idle": "2022-04-02T19:49:07.299003Z",
     "shell.execute_reply": "2022-04-02T19:49:07.298479Z",
     "shell.execute_reply.started": "2022-04-02T19:48:05.853412Z"
    },
    "papermill": {
     "duration": 0.107995,
     "end_time": "2022-04-02T19:49:07.299148",
     "exception": false,
     "start_time": "2022-04-02T19:49:07.191153",
     "status": "completed"
    },
    "tags": []
   },
   "outputs": [
    {
     "data": {
      "text/html": [
       "<div>\n",
       "<style scoped>\n",
       "    .dataframe tbody tr th:only-of-type {\n",
       "        vertical-align: middle;\n",
       "    }\n",
       "\n",
       "    .dataframe tbody tr th {\n",
       "        vertical-align: top;\n",
       "    }\n",
       "\n",
       "    .dataframe thead th {\n",
       "        text-align: right;\n",
       "    }\n",
       "</style>\n",
       "<table border=\"1\" class=\"dataframe\">\n",
       "  <thead>\n",
       "    <tr style=\"text-align: right;\">\n",
       "      <th></th>\n",
       "      <th>Survived</th>\n",
       "      <th>Pclass</th>\n",
       "      <th>Sex</th>\n",
       "      <th>Age</th>\n",
       "      <th>Fare</th>\n",
       "      <th>Embarked</th>\n",
       "      <th>Title</th>\n",
       "      <th>Age_cut</th>\n",
       "      <th>Is_alone</th>\n",
       "    </tr>\n",
       "  </thead>\n",
       "  <tbody>\n",
       "    <tr>\n",
       "      <th>0</th>\n",
       "      <td>0</td>\n",
       "      <td>3</td>\n",
       "      <td>0</td>\n",
       "      <td>1</td>\n",
       "      <td>7.2500</td>\n",
       "      <td>S</td>\n",
       "      <td>1</td>\n",
       "      <td>(16.0, 32.0]</td>\n",
       "      <td>0</td>\n",
       "    </tr>\n",
       "    <tr>\n",
       "      <th>1</th>\n",
       "      <td>1</td>\n",
       "      <td>1</td>\n",
       "      <td>1</td>\n",
       "      <td>2</td>\n",
       "      <td>71.2833</td>\n",
       "      <td>C</td>\n",
       "      <td>3</td>\n",
       "      <td>(32.0, 48.0]</td>\n",
       "      <td>0</td>\n",
       "    </tr>\n",
       "    <tr>\n",
       "      <th>2</th>\n",
       "      <td>1</td>\n",
       "      <td>3</td>\n",
       "      <td>1</td>\n",
       "      <td>1</td>\n",
       "      <td>7.9250</td>\n",
       "      <td>S</td>\n",
       "      <td>2</td>\n",
       "      <td>(16.0, 32.0]</td>\n",
       "      <td>1</td>\n",
       "    </tr>\n",
       "    <tr>\n",
       "      <th>3</th>\n",
       "      <td>1</td>\n",
       "      <td>1</td>\n",
       "      <td>1</td>\n",
       "      <td>2</td>\n",
       "      <td>53.1000</td>\n",
       "      <td>S</td>\n",
       "      <td>3</td>\n",
       "      <td>(32.0, 48.0]</td>\n",
       "      <td>0</td>\n",
       "    </tr>\n",
       "    <tr>\n",
       "      <th>4</th>\n",
       "      <td>0</td>\n",
       "      <td>3</td>\n",
       "      <td>0</td>\n",
       "      <td>2</td>\n",
       "      <td>8.0500</td>\n",
       "      <td>S</td>\n",
       "      <td>1</td>\n",
       "      <td>(32.0, 48.0]</td>\n",
       "      <td>1</td>\n",
       "    </tr>\n",
       "  </tbody>\n",
       "</table>\n",
       "</div>"
      ],
      "text/plain": [
       "   Survived  Pclass  Sex  Age     Fare Embarked  Title       Age_cut  Is_alone\n",
       "0         0       3    0    1   7.2500        S      1  (16.0, 32.0]         0\n",
       "1         1       1    1    2  71.2833        C      3  (32.0, 48.0]         0\n",
       "2         1       3    1    1   7.9250        S      2  (16.0, 32.0]         1\n",
       "3         1       1    1    2  53.1000        S      3  (32.0, 48.0]         0\n",
       "4         0       3    0    2   8.0500        S      1  (32.0, 48.0]         1"
      ]
     },
     "execution_count": 33,
     "metadata": {},
     "output_type": "execute_result"
    }
   ],
   "source": [
    "train_data.head()"
   ]
  },
  {
   "cell_type": "markdown",
   "id": "455639e3",
   "metadata": {
    "papermill": {
     "duration": 0.091686,
     "end_time": "2022-04-02T19:49:07.483742",
     "exception": false,
     "start_time": "2022-04-02T19:49:07.392056",
     "status": "completed"
    },
    "tags": []
   },
   "source": [
    "Creat a feature combining age and pclass by age * pclass"
   ]
  },
  {
   "cell_type": "code",
   "execution_count": 34,
   "id": "89f3e616",
   "metadata": {
    "execution": {
     "iopub.execute_input": "2022-04-02T19:49:07.670960Z",
     "iopub.status.busy": "2022-04-02T19:49:07.670279Z",
     "iopub.status.idle": "2022-04-02T19:49:07.681916Z",
     "shell.execute_reply": "2022-04-02T19:49:07.682473Z",
     "shell.execute_reply.started": "2022-04-02T19:48:05.871516Z"
    },
    "papermill": {
     "duration": 0.10698,
     "end_time": "2022-04-02T19:49:07.682638",
     "exception": false,
     "start_time": "2022-04-02T19:49:07.575658",
     "status": "completed"
    },
    "tags": []
   },
   "outputs": [
    {
     "data": {
      "text/html": [
       "<div>\n",
       "<style scoped>\n",
       "    .dataframe tbody tr th:only-of-type {\n",
       "        vertical-align: middle;\n",
       "    }\n",
       "\n",
       "    .dataframe tbody tr th {\n",
       "        vertical-align: top;\n",
       "    }\n",
       "\n",
       "    .dataframe thead th {\n",
       "        text-align: right;\n",
       "    }\n",
       "</style>\n",
       "<table border=\"1\" class=\"dataframe\">\n",
       "  <thead>\n",
       "    <tr style=\"text-align: right;\">\n",
       "      <th></th>\n",
       "      <th>Age</th>\n",
       "      <th>Pclass</th>\n",
       "      <th>Age*Pclass</th>\n",
       "    </tr>\n",
       "  </thead>\n",
       "  <tbody>\n",
       "    <tr>\n",
       "      <th>0</th>\n",
       "      <td>1</td>\n",
       "      <td>3</td>\n",
       "      <td>3</td>\n",
       "    </tr>\n",
       "    <tr>\n",
       "      <th>1</th>\n",
       "      <td>2</td>\n",
       "      <td>1</td>\n",
       "      <td>2</td>\n",
       "    </tr>\n",
       "    <tr>\n",
       "      <th>2</th>\n",
       "      <td>1</td>\n",
       "      <td>3</td>\n",
       "      <td>3</td>\n",
       "    </tr>\n",
       "    <tr>\n",
       "      <th>3</th>\n",
       "      <td>2</td>\n",
       "      <td>1</td>\n",
       "      <td>2</td>\n",
       "    </tr>\n",
       "    <tr>\n",
       "      <th>4</th>\n",
       "      <td>2</td>\n",
       "      <td>3</td>\n",
       "      <td>6</td>\n",
       "    </tr>\n",
       "  </tbody>\n",
       "</table>\n",
       "</div>"
      ],
      "text/plain": [
       "   Age  Pclass  Age*Pclass\n",
       "0    1       3           3\n",
       "1    2       1           2\n",
       "2    1       3           3\n",
       "3    2       1           2\n",
       "4    2       3           6"
      ]
     },
     "execution_count": 34,
     "metadata": {},
     "output_type": "execute_result"
    }
   ],
   "source": [
    "for dataset in combine:\n",
    "    dataset['Age*Pclass'] = dataset['Age'] * dataset['Pclass']\n",
    "train_data.loc[:, ['Age', 'Pclass', 'Age*Pclass']].head()"
   ]
  },
  {
   "cell_type": "markdown",
   "id": "9c2d3a2a",
   "metadata": {
    "papermill": {
     "duration": 0.094722,
     "end_time": "2022-04-02T19:49:07.870038",
     "exception": false,
     "start_time": "2022-04-02T19:49:07.775316",
     "status": "completed"
    },
    "tags": []
   },
   "source": [
    "Filling missing values for categorical features: Embarked by most occurance"
   ]
  },
  {
   "cell_type": "code",
   "execution_count": 35,
   "id": "fab444d3",
   "metadata": {
    "execution": {
     "iopub.execute_input": "2022-04-02T19:49:08.061361Z",
     "iopub.status.busy": "2022-04-02T19:49:08.060708Z",
     "iopub.status.idle": "2022-04-02T19:49:08.066752Z",
     "shell.execute_reply": "2022-04-02T19:49:08.067348Z",
     "shell.execute_reply.started": "2022-04-02T19:48:05.885081Z"
    },
    "papermill": {
     "duration": 0.102724,
     "end_time": "2022-04-02T19:49:08.067514",
     "exception": false,
     "start_time": "2022-04-02T19:49:07.964790",
     "status": "completed"
    },
    "tags": []
   },
   "outputs": [
    {
     "data": {
      "text/plain": [
       "'S'"
      ]
     },
     "execution_count": 35,
     "metadata": {},
     "output_type": "execute_result"
    }
   ],
   "source": [
    "freq_port = train_data.Embarked.dropna().mode()[0]\n",
    "freq_port"
   ]
  },
  {
   "cell_type": "code",
   "execution_count": 36,
   "id": "242887fd",
   "metadata": {
    "execution": {
     "iopub.execute_input": "2022-04-02T19:49:08.256954Z",
     "iopub.status.busy": "2022-04-02T19:49:08.256254Z",
     "iopub.status.idle": "2022-04-02T19:49:08.280421Z",
     "shell.execute_reply": "2022-04-02T19:49:08.280936Z",
     "shell.execute_reply.started": "2022-04-02T19:48:05.892277Z"
    },
    "papermill": {
     "duration": 0.119974,
     "end_time": "2022-04-02T19:49:08.281106",
     "exception": false,
     "start_time": "2022-04-02T19:49:08.161132",
     "status": "completed"
    },
    "tags": []
   },
   "outputs": [
    {
     "name": "stdout",
     "output_type": "stream",
     "text": [
      "<class 'pandas.core.frame.DataFrame'>\n",
      "RangeIndex: 891 entries, 0 to 890\n",
      "Data columns (total 10 columns):\n",
      " #   Column      Non-Null Count  Dtype   \n",
      "---  ------      --------------  -----   \n",
      " 0   Survived    891 non-null    int64   \n",
      " 1   Pclass      891 non-null    int64   \n",
      " 2   Sex         891 non-null    int64   \n",
      " 3   Age         891 non-null    int64   \n",
      " 4   Fare        891 non-null    float64 \n",
      " 5   Embarked    891 non-null    object  \n",
      " 6   Title       891 non-null    int64   \n",
      " 7   Age_cut     891 non-null    category\n",
      " 8   Is_alone    891 non-null    int64   \n",
      " 9   Age*Pclass  891 non-null    int64   \n",
      "dtypes: category(1), float64(1), int64(7), object(1)\n",
      "memory usage: 63.9+ KB\n"
     ]
    },
    {
     "data": {
      "text/html": [
       "<div>\n",
       "<style scoped>\n",
       "    .dataframe tbody tr th:only-of-type {\n",
       "        vertical-align: middle;\n",
       "    }\n",
       "\n",
       "    .dataframe tbody tr th {\n",
       "        vertical-align: top;\n",
       "    }\n",
       "\n",
       "    .dataframe thead th {\n",
       "        text-align: right;\n",
       "    }\n",
       "</style>\n",
       "<table border=\"1\" class=\"dataframe\">\n",
       "  <thead>\n",
       "    <tr style=\"text-align: right;\">\n",
       "      <th></th>\n",
       "      <th>Embarked</th>\n",
       "      <th>Survived</th>\n",
       "    </tr>\n",
       "  </thead>\n",
       "  <tbody>\n",
       "    <tr>\n",
       "      <th>0</th>\n",
       "      <td>C</td>\n",
       "      <td>0.553571</td>\n",
       "    </tr>\n",
       "    <tr>\n",
       "      <th>1</th>\n",
       "      <td>Q</td>\n",
       "      <td>0.389610</td>\n",
       "    </tr>\n",
       "    <tr>\n",
       "      <th>2</th>\n",
       "      <td>S</td>\n",
       "      <td>0.339009</td>\n",
       "    </tr>\n",
       "  </tbody>\n",
       "</table>\n",
       "</div>"
      ],
      "text/plain": [
       "  Embarked  Survived\n",
       "0        C  0.553571\n",
       "1        Q  0.389610\n",
       "2        S  0.339009"
      ]
     },
     "execution_count": 36,
     "metadata": {},
     "output_type": "execute_result"
    }
   ],
   "source": [
    "for dataset in combine:\n",
    "    dataset['Embarked'] = dataset['Embarked'].fillna(freq_port)\n",
    "train_data.info()\n",
    "\n",
    "train_data[['Embarked','Survived']].groupby('Embarked', as_index=False).mean().sort_values(by='Survived', ascending=False)"
   ]
  },
  {
   "cell_type": "code",
   "execution_count": 37,
   "id": "74a2ce8c",
   "metadata": {
    "execution": {
     "iopub.execute_input": "2022-04-02T19:49:08.487660Z",
     "iopub.status.busy": "2022-04-02T19:49:08.471524Z",
     "iopub.status.idle": "2022-04-02T19:49:08.491391Z",
     "shell.execute_reply": "2022-04-02T19:49:08.490769Z",
     "shell.execute_reply.started": "2022-04-02T19:48:05.921518Z"
    },
    "papermill": {
     "duration": 0.116333,
     "end_time": "2022-04-02T19:49:08.491530",
     "exception": false,
     "start_time": "2022-04-02T19:49:08.375197",
     "status": "completed"
    },
    "tags": []
   },
   "outputs": [
    {
     "data": {
      "text/html": [
       "<div>\n",
       "<style scoped>\n",
       "    .dataframe tbody tr th:only-of-type {\n",
       "        vertical-align: middle;\n",
       "    }\n",
       "\n",
       "    .dataframe tbody tr th {\n",
       "        vertical-align: top;\n",
       "    }\n",
       "\n",
       "    .dataframe thead th {\n",
       "        text-align: right;\n",
       "    }\n",
       "</style>\n",
       "<table border=\"1\" class=\"dataframe\">\n",
       "  <thead>\n",
       "    <tr style=\"text-align: right;\">\n",
       "      <th></th>\n",
       "      <th>Survived</th>\n",
       "      <th>Pclass</th>\n",
       "      <th>Sex</th>\n",
       "      <th>Age</th>\n",
       "      <th>Fare</th>\n",
       "      <th>Embarked</th>\n",
       "      <th>Title</th>\n",
       "      <th>Age_cut</th>\n",
       "      <th>Is_alone</th>\n",
       "      <th>Age*Pclass</th>\n",
       "    </tr>\n",
       "  </thead>\n",
       "  <tbody>\n",
       "    <tr>\n",
       "      <th>0</th>\n",
       "      <td>0</td>\n",
       "      <td>3</td>\n",
       "      <td>0</td>\n",
       "      <td>1</td>\n",
       "      <td>7.2500</td>\n",
       "      <td>0</td>\n",
       "      <td>1</td>\n",
       "      <td>(16.0, 32.0]</td>\n",
       "      <td>0</td>\n",
       "      <td>3</td>\n",
       "    </tr>\n",
       "    <tr>\n",
       "      <th>1</th>\n",
       "      <td>1</td>\n",
       "      <td>1</td>\n",
       "      <td>1</td>\n",
       "      <td>2</td>\n",
       "      <td>71.2833</td>\n",
       "      <td>2</td>\n",
       "      <td>3</td>\n",
       "      <td>(32.0, 48.0]</td>\n",
       "      <td>0</td>\n",
       "      <td>2</td>\n",
       "    </tr>\n",
       "    <tr>\n",
       "      <th>2</th>\n",
       "      <td>1</td>\n",
       "      <td>3</td>\n",
       "      <td>1</td>\n",
       "      <td>1</td>\n",
       "      <td>7.9250</td>\n",
       "      <td>0</td>\n",
       "      <td>2</td>\n",
       "      <td>(16.0, 32.0]</td>\n",
       "      <td>1</td>\n",
       "      <td>3</td>\n",
       "    </tr>\n",
       "    <tr>\n",
       "      <th>3</th>\n",
       "      <td>1</td>\n",
       "      <td>1</td>\n",
       "      <td>1</td>\n",
       "      <td>2</td>\n",
       "      <td>53.1000</td>\n",
       "      <td>0</td>\n",
       "      <td>3</td>\n",
       "      <td>(32.0, 48.0]</td>\n",
       "      <td>0</td>\n",
       "      <td>2</td>\n",
       "    </tr>\n",
       "    <tr>\n",
       "      <th>4</th>\n",
       "      <td>0</td>\n",
       "      <td>3</td>\n",
       "      <td>0</td>\n",
       "      <td>2</td>\n",
       "      <td>8.0500</td>\n",
       "      <td>0</td>\n",
       "      <td>1</td>\n",
       "      <td>(32.0, 48.0]</td>\n",
       "      <td>1</td>\n",
       "      <td>6</td>\n",
       "    </tr>\n",
       "  </tbody>\n",
       "</table>\n",
       "</div>"
      ],
      "text/plain": [
       "   Survived  Pclass  Sex  Age     Fare  Embarked  Title       Age_cut  \\\n",
       "0         0       3    0    1   7.2500         0      1  (16.0, 32.0]   \n",
       "1         1       1    1    2  71.2833         2      3  (32.0, 48.0]   \n",
       "2         1       3    1    1   7.9250         0      2  (16.0, 32.0]   \n",
       "3         1       1    1    2  53.1000         0      3  (32.0, 48.0]   \n",
       "4         0       3    0    2   8.0500         0      1  (32.0, 48.0]   \n",
       "\n",
       "   Is_alone  Age*Pclass  \n",
       "0         0           3  \n",
       "1         0           2  \n",
       "2         1           3  \n",
       "3         0           2  \n",
       "4         1           6  "
      ]
     },
     "execution_count": 37,
     "metadata": {},
     "output_type": "execute_result"
    }
   ],
   "source": [
    "#convert port to ordinary numeric \n",
    "for dataset in combine:\n",
    "    dataset['Embarked'] = dataset['Embarked'].map({'C':2, 'Q':1, 'S':0}).astype(int)\n",
    "train_data.head()"
   ]
  },
  {
   "cell_type": "markdown",
   "id": "f60e7efa",
   "metadata": {
    "papermill": {
     "duration": 0.094946,
     "end_time": "2022-04-02T19:49:08.682195",
     "exception": false,
     "start_time": "2022-04-02T19:49:08.587249",
     "status": "completed"
    },
    "tags": []
   },
   "source": [
    "filling Fare in test_data by mode and convert"
   ]
  },
  {
   "cell_type": "code",
   "execution_count": 38,
   "id": "c97a4815",
   "metadata": {
    "execution": {
     "iopub.execute_input": "2022-04-02T19:49:08.882874Z",
     "iopub.status.busy": "2022-04-02T19:49:08.882192Z",
     "iopub.status.idle": "2022-04-02T19:49:08.891161Z",
     "shell.execute_reply": "2022-04-02T19:49:08.891668Z",
     "shell.execute_reply.started": "2022-04-02T19:48:05.941108Z"
    },
    "papermill": {
     "duration": 0.108819,
     "end_time": "2022-04-02T19:49:08.891865",
     "exception": false,
     "start_time": "2022-04-02T19:49:08.783046",
     "status": "completed"
    },
    "tags": []
   },
   "outputs": [
    {
     "name": "stdout",
     "output_type": "stream",
     "text": [
      "<class 'pandas.core.frame.DataFrame'>\n",
      "RangeIndex: 418 entries, 0 to 417\n",
      "Data columns (total 9 columns):\n",
      " #   Column       Non-Null Count  Dtype  \n",
      "---  ------       --------------  -----  \n",
      " 0   PassengerId  418 non-null    int64  \n",
      " 1   Pclass       418 non-null    int64  \n",
      " 2   Sex          418 non-null    int64  \n",
      " 3   Age          418 non-null    int64  \n",
      " 4   Fare         417 non-null    float64\n",
      " 5   Embarked     418 non-null    int64  \n",
      " 6   Title        418 non-null    int64  \n",
      " 7   Is_alone     418 non-null    int64  \n",
      " 8   Age*Pclass   418 non-null    int64  \n",
      "dtypes: float64(1), int64(8)\n",
      "memory usage: 29.5 KB\n"
     ]
    }
   ],
   "source": [
    "test_data.info()"
   ]
  },
  {
   "cell_type": "code",
   "execution_count": 39,
   "id": "973ef259",
   "metadata": {
    "execution": {
     "iopub.execute_input": "2022-04-02T19:49:09.100606Z",
     "iopub.status.busy": "2022-04-02T19:49:09.090154Z",
     "iopub.status.idle": "2022-04-02T19:49:09.103448Z",
     "shell.execute_reply": "2022-04-02T19:49:09.104180Z",
     "shell.execute_reply.started": "2022-04-02T19:48:05.957544Z"
    },
    "papermill": {
     "duration": 0.116406,
     "end_time": "2022-04-02T19:49:09.104404",
     "exception": false,
     "start_time": "2022-04-02T19:49:08.987998",
     "status": "completed"
    },
    "tags": []
   },
   "outputs": [
    {
     "name": "stdout",
     "output_type": "stream",
     "text": [
      "<class 'pandas.core.frame.DataFrame'>\n",
      "RangeIndex: 418 entries, 0 to 417\n",
      "Data columns (total 9 columns):\n",
      " #   Column       Non-Null Count  Dtype  \n",
      "---  ------       --------------  -----  \n",
      " 0   PassengerId  418 non-null    int64  \n",
      " 1   Pclass       418 non-null    int64  \n",
      " 2   Sex          418 non-null    int64  \n",
      " 3   Age          418 non-null    int64  \n",
      " 4   Fare         418 non-null    float64\n",
      " 5   Embarked     418 non-null    int64  \n",
      " 6   Title        418 non-null    int64  \n",
      " 7   Is_alone     418 non-null    int64  \n",
      " 8   Age*Pclass   418 non-null    int64  \n",
      "dtypes: float64(1), int64(8)\n",
      "memory usage: 29.5 KB\n"
     ]
    }
   ],
   "source": [
    "test_data['Fare'].fillna(test_data['Fare'].dropna().median(), inplace=True)\n",
    "test_data.info()\n"
   ]
  },
  {
   "cell_type": "code",
   "execution_count": 40,
   "id": "e01bd2b0",
   "metadata": {
    "execution": {
     "iopub.execute_input": "2022-04-02T19:49:09.306624Z",
     "iopub.status.busy": "2022-04-02T19:49:09.305980Z",
     "iopub.status.idle": "2022-04-02T19:49:09.319845Z",
     "shell.execute_reply": "2022-04-02T19:49:09.320417Z",
     "shell.execute_reply.started": "2022-04-02T19:48:05.972884Z"
    },
    "papermill": {
     "duration": 0.116524,
     "end_time": "2022-04-02T19:49:09.320599",
     "exception": false,
     "start_time": "2022-04-02T19:49:09.204075",
     "status": "completed"
    },
    "tags": []
   },
   "outputs": [
    {
     "data": {
      "text/html": [
       "<div>\n",
       "<style scoped>\n",
       "    .dataframe tbody tr th:only-of-type {\n",
       "        vertical-align: middle;\n",
       "    }\n",
       "\n",
       "    .dataframe tbody tr th {\n",
       "        vertical-align: top;\n",
       "    }\n",
       "\n",
       "    .dataframe thead th {\n",
       "        text-align: right;\n",
       "    }\n",
       "</style>\n",
       "<table border=\"1\" class=\"dataframe\">\n",
       "  <thead>\n",
       "    <tr style=\"text-align: right;\">\n",
       "      <th></th>\n",
       "      <th>Fare_cut</th>\n",
       "      <th>Survived</th>\n",
       "    </tr>\n",
       "  </thead>\n",
       "  <tbody>\n",
       "    <tr>\n",
       "      <th>0</th>\n",
       "      <td>(-0.001, 7.91]</td>\n",
       "      <td>0.197309</td>\n",
       "    </tr>\n",
       "    <tr>\n",
       "      <th>1</th>\n",
       "      <td>(7.91, 14.454]</td>\n",
       "      <td>0.303571</td>\n",
       "    </tr>\n",
       "    <tr>\n",
       "      <th>2</th>\n",
       "      <td>(14.454, 31.0]</td>\n",
       "      <td>0.454955</td>\n",
       "    </tr>\n",
       "    <tr>\n",
       "      <th>3</th>\n",
       "      <td>(31.0, 512.329]</td>\n",
       "      <td>0.581081</td>\n",
       "    </tr>\n",
       "  </tbody>\n",
       "</table>\n",
       "</div>"
      ],
      "text/plain": [
       "          Fare_cut  Survived\n",
       "0   (-0.001, 7.91]  0.197309\n",
       "1   (7.91, 14.454]  0.303571\n",
       "2   (14.454, 31.0]  0.454955\n",
       "3  (31.0, 512.329]  0.581081"
      ]
     },
     "execution_count": 40,
     "metadata": {},
     "output_type": "execute_result"
    }
   ],
   "source": [
    "train_data['Fare_cut'] = pd.qcut(train_data['Fare'], 4)\n",
    "train_data[['Fare_cut', 'Survived']].groupby('Fare_cut', as_index=False).mean().sort_values(by='Survived', ascending=True)"
   ]
  },
  {
   "cell_type": "markdown",
   "id": "7df5ce36",
   "metadata": {
    "papermill": {
     "duration": 0.095358,
     "end_time": "2022-04-02T19:49:09.511636",
     "exception": false,
     "start_time": "2022-04-02T19:49:09.416278",
     "status": "completed"
    },
    "tags": []
   },
   "source": [
    "Convert cuts to ordinal numerical values\n"
   ]
  },
  {
   "cell_type": "code",
   "execution_count": 41,
   "id": "61a1d2bd",
   "metadata": {
    "execution": {
     "iopub.execute_input": "2022-04-02T19:49:09.706993Z",
     "iopub.status.busy": "2022-04-02T19:49:09.706285Z",
     "iopub.status.idle": "2022-04-02T19:49:09.718770Z",
     "shell.execute_reply": "2022-04-02T19:49:09.719362Z",
     "shell.execute_reply.started": "2022-04-02T19:48:05.994834Z"
    },
    "papermill": {
     "duration": 0.112105,
     "end_time": "2022-04-02T19:49:09.719538",
     "exception": false,
     "start_time": "2022-04-02T19:49:09.607433",
     "status": "completed"
    },
    "tags": []
   },
   "outputs": [],
   "source": [
    "for dataset in combine:\n",
    "    dataset.loc[dataset['Fare'] <= 7.91, 'Fare'] = 0\n",
    "    dataset.loc[(dataset['Fare'] <= 14.454) & (dataset['Fare'] > 7.91), 'Fare'] = 1\n",
    "    dataset.loc[(dataset['Fare'] <= 31) & dataset['Fare'] > 14.454, 'Fare'] = 2\n",
    "    dataset.loc[(dataset['Fare'] >31), 'Fare'] = 3\n",
    "    dataset['Fare'] = dataset['Fare'].astype(int)\n",
    "combine = [train_data, test_data]"
   ]
  },
  {
   "cell_type": "code",
   "execution_count": 42,
   "id": "aa803512",
   "metadata": {
    "execution": {
     "iopub.execute_input": "2022-04-02T19:49:09.927189Z",
     "iopub.status.busy": "2022-04-02T19:49:09.914650Z",
     "iopub.status.idle": "2022-04-02T19:49:09.929806Z",
     "shell.execute_reply": "2022-04-02T19:49:09.930326Z",
     "shell.execute_reply.started": "2022-04-02T19:48:06.011371Z"
    },
    "papermill": {
     "duration": 0.114819,
     "end_time": "2022-04-02T19:49:09.930492",
     "exception": false,
     "start_time": "2022-04-02T19:49:09.815673",
     "status": "completed"
    },
    "tags": []
   },
   "outputs": [
    {
     "data": {
      "text/html": [
       "<div>\n",
       "<style scoped>\n",
       "    .dataframe tbody tr th:only-of-type {\n",
       "        vertical-align: middle;\n",
       "    }\n",
       "\n",
       "    .dataframe tbody tr th {\n",
       "        vertical-align: top;\n",
       "    }\n",
       "\n",
       "    .dataframe thead th {\n",
       "        text-align: right;\n",
       "    }\n",
       "</style>\n",
       "<table border=\"1\" class=\"dataframe\">\n",
       "  <thead>\n",
       "    <tr style=\"text-align: right;\">\n",
       "      <th></th>\n",
       "      <th>Survived</th>\n",
       "      <th>Pclass</th>\n",
       "      <th>Sex</th>\n",
       "      <th>Age</th>\n",
       "      <th>Fare</th>\n",
       "      <th>Embarked</th>\n",
       "      <th>Title</th>\n",
       "      <th>Age_cut</th>\n",
       "      <th>Is_alone</th>\n",
       "      <th>Age*Pclass</th>\n",
       "      <th>Fare_cut</th>\n",
       "    </tr>\n",
       "  </thead>\n",
       "  <tbody>\n",
       "    <tr>\n",
       "      <th>0</th>\n",
       "      <td>0</td>\n",
       "      <td>3</td>\n",
       "      <td>0</td>\n",
       "      <td>1</td>\n",
       "      <td>0</td>\n",
       "      <td>0</td>\n",
       "      <td>1</td>\n",
       "      <td>(16.0, 32.0]</td>\n",
       "      <td>0</td>\n",
       "      <td>3</td>\n",
       "      <td>(-0.001, 7.91]</td>\n",
       "    </tr>\n",
       "    <tr>\n",
       "      <th>1</th>\n",
       "      <td>1</td>\n",
       "      <td>1</td>\n",
       "      <td>1</td>\n",
       "      <td>2</td>\n",
       "      <td>3</td>\n",
       "      <td>2</td>\n",
       "      <td>3</td>\n",
       "      <td>(32.0, 48.0]</td>\n",
       "      <td>0</td>\n",
       "      <td>2</td>\n",
       "      <td>(31.0, 512.329]</td>\n",
       "    </tr>\n",
       "    <tr>\n",
       "      <th>2</th>\n",
       "      <td>1</td>\n",
       "      <td>3</td>\n",
       "      <td>1</td>\n",
       "      <td>1</td>\n",
       "      <td>1</td>\n",
       "      <td>0</td>\n",
       "      <td>2</td>\n",
       "      <td>(16.0, 32.0]</td>\n",
       "      <td>1</td>\n",
       "      <td>3</td>\n",
       "      <td>(7.91, 14.454]</td>\n",
       "    </tr>\n",
       "    <tr>\n",
       "      <th>3</th>\n",
       "      <td>1</td>\n",
       "      <td>1</td>\n",
       "      <td>1</td>\n",
       "      <td>2</td>\n",
       "      <td>3</td>\n",
       "      <td>0</td>\n",
       "      <td>3</td>\n",
       "      <td>(32.0, 48.0]</td>\n",
       "      <td>0</td>\n",
       "      <td>2</td>\n",
       "      <td>(31.0, 512.329]</td>\n",
       "    </tr>\n",
       "    <tr>\n",
       "      <th>4</th>\n",
       "      <td>0</td>\n",
       "      <td>3</td>\n",
       "      <td>0</td>\n",
       "      <td>2</td>\n",
       "      <td>1</td>\n",
       "      <td>0</td>\n",
       "      <td>1</td>\n",
       "      <td>(32.0, 48.0]</td>\n",
       "      <td>1</td>\n",
       "      <td>6</td>\n",
       "      <td>(7.91, 14.454]</td>\n",
       "    </tr>\n",
       "  </tbody>\n",
       "</table>\n",
       "</div>"
      ],
      "text/plain": [
       "   Survived  Pclass  Sex  Age  Fare  Embarked  Title       Age_cut  Is_alone  \\\n",
       "0         0       3    0    1     0         0      1  (16.0, 32.0]         0   \n",
       "1         1       1    1    2     3         2      3  (32.0, 48.0]         0   \n",
       "2         1       3    1    1     1         0      2  (16.0, 32.0]         1   \n",
       "3         1       1    1    2     3         0      3  (32.0, 48.0]         0   \n",
       "4         0       3    0    2     1         0      1  (32.0, 48.0]         1   \n",
       "\n",
       "   Age*Pclass         Fare_cut  \n",
       "0           3   (-0.001, 7.91]  \n",
       "1           2  (31.0, 512.329]  \n",
       "2           3   (7.91, 14.454]  \n",
       "3           2  (31.0, 512.329]  \n",
       "4           6   (7.91, 14.454]  "
      ]
     },
     "execution_count": 42,
     "metadata": {},
     "output_type": "execute_result"
    }
   ],
   "source": [
    "train_data.head()"
   ]
  },
  {
   "cell_type": "markdown",
   "id": "c90ec405",
   "metadata": {
    "papermill": {
     "duration": 0.098061,
     "end_time": "2022-04-02T19:49:10.125451",
     "exception": false,
     "start_time": "2022-04-02T19:49:10.027390",
     "status": "completed"
    },
    "tags": []
   },
   "source": [
    "drop age_cut, fare_cut"
   ]
  },
  {
   "cell_type": "code",
   "execution_count": 43,
   "id": "22451fe4",
   "metadata": {
    "execution": {
     "iopub.execute_input": "2022-04-02T19:49:10.324776Z",
     "iopub.status.busy": "2022-04-02T19:49:10.324159Z",
     "iopub.status.idle": "2022-04-02T19:49:10.330282Z",
     "shell.execute_reply": "2022-04-02T19:49:10.330720Z",
     "shell.execute_reply.started": "2022-04-02T19:48:06.029944Z"
    },
    "papermill": {
     "duration": 0.106124,
     "end_time": "2022-04-02T19:49:10.330902",
     "exception": false,
     "start_time": "2022-04-02T19:49:10.224778",
     "status": "completed"
    },
    "tags": []
   },
   "outputs": [],
   "source": [
    "train_data.head()\n",
    "train = train_data.drop('Age_cut', axis=1)\n",
    "train = train.drop('Fare_cut', axis=1)\n",
    "train.head()\n",
    "test = test_data"
   ]
  },
  {
   "cell_type": "code",
   "execution_count": 44,
   "id": "242d6708",
   "metadata": {
    "execution": {
     "iopub.execute_input": "2022-04-02T19:49:10.535175Z",
     "iopub.status.busy": "2022-04-02T19:49:10.534303Z",
     "iopub.status.idle": "2022-04-02T19:49:10.537718Z",
     "shell.execute_reply": "2022-04-02T19:49:10.538239Z",
     "shell.execute_reply.started": "2022-04-02T19:48:06.043875Z"
    },
    "papermill": {
     "duration": 0.110978,
     "end_time": "2022-04-02T19:49:10.538408",
     "exception": false,
     "start_time": "2022-04-02T19:49:10.427430",
     "status": "completed"
    },
    "tags": []
   },
   "outputs": [
    {
     "data": {
      "text/html": [
       "<div>\n",
       "<style scoped>\n",
       "    .dataframe tbody tr th:only-of-type {\n",
       "        vertical-align: middle;\n",
       "    }\n",
       "\n",
       "    .dataframe tbody tr th {\n",
       "        vertical-align: top;\n",
       "    }\n",
       "\n",
       "    .dataframe thead th {\n",
       "        text-align: right;\n",
       "    }\n",
       "</style>\n",
       "<table border=\"1\" class=\"dataframe\">\n",
       "  <thead>\n",
       "    <tr style=\"text-align: right;\">\n",
       "      <th></th>\n",
       "      <th>PassengerId</th>\n",
       "      <th>Pclass</th>\n",
       "      <th>Sex</th>\n",
       "      <th>Age</th>\n",
       "      <th>Fare</th>\n",
       "      <th>Embarked</th>\n",
       "      <th>Title</th>\n",
       "      <th>Is_alone</th>\n",
       "      <th>Age*Pclass</th>\n",
       "    </tr>\n",
       "  </thead>\n",
       "  <tbody>\n",
       "    <tr>\n",
       "      <th>0</th>\n",
       "      <td>892</td>\n",
       "      <td>3</td>\n",
       "      <td>0</td>\n",
       "      <td>2</td>\n",
       "      <td>0</td>\n",
       "      <td>1</td>\n",
       "      <td>1</td>\n",
       "      <td>1</td>\n",
       "      <td>6</td>\n",
       "    </tr>\n",
       "    <tr>\n",
       "      <th>1</th>\n",
       "      <td>893</td>\n",
       "      <td>3</td>\n",
       "      <td>1</td>\n",
       "      <td>2</td>\n",
       "      <td>0</td>\n",
       "      <td>0</td>\n",
       "      <td>3</td>\n",
       "      <td>0</td>\n",
       "      <td>6</td>\n",
       "    </tr>\n",
       "    <tr>\n",
       "      <th>2</th>\n",
       "      <td>894</td>\n",
       "      <td>2</td>\n",
       "      <td>0</td>\n",
       "      <td>3</td>\n",
       "      <td>1</td>\n",
       "      <td>1</td>\n",
       "      <td>1</td>\n",
       "      <td>1</td>\n",
       "      <td>6</td>\n",
       "    </tr>\n",
       "    <tr>\n",
       "      <th>3</th>\n",
       "      <td>895</td>\n",
       "      <td>3</td>\n",
       "      <td>0</td>\n",
       "      <td>1</td>\n",
       "      <td>1</td>\n",
       "      <td>0</td>\n",
       "      <td>1</td>\n",
       "      <td>1</td>\n",
       "      <td>3</td>\n",
       "    </tr>\n",
       "    <tr>\n",
       "      <th>4</th>\n",
       "      <td>896</td>\n",
       "      <td>3</td>\n",
       "      <td>1</td>\n",
       "      <td>1</td>\n",
       "      <td>1</td>\n",
       "      <td>0</td>\n",
       "      <td>3</td>\n",
       "      <td>0</td>\n",
       "      <td>3</td>\n",
       "    </tr>\n",
       "  </tbody>\n",
       "</table>\n",
       "</div>"
      ],
      "text/plain": [
       "   PassengerId  Pclass  Sex  Age  Fare  Embarked  Title  Is_alone  Age*Pclass\n",
       "0          892       3    0    2     0         1      1         1           6\n",
       "1          893       3    1    2     0         0      3         0           6\n",
       "2          894       2    0    3     1         1      1         1           6\n",
       "3          895       3    0    1     1         0      1         1           3\n",
       "4          896       3    1    1     1         0      3         0           3"
      ]
     },
     "execution_count": 44,
     "metadata": {},
     "output_type": "execute_result"
    }
   ],
   "source": [
    "test.head()"
   ]
  },
  {
   "cell_type": "markdown",
   "id": "85dea1a3",
   "metadata": {
    "papermill": {
     "duration": 0.097394,
     "end_time": "2022-04-02T19:49:10.733524",
     "exception": false,
     "start_time": "2022-04-02T19:49:10.636130",
     "status": "completed"
    },
    "tags": []
   },
   "source": [
    "**Modeling, predict, and solve**"
   ]
  },
  {
   "cell_type": "markdown",
   "id": "6ed4b50f",
   "metadata": {
    "papermill": {
     "duration": 0.097371,
     "end_time": "2022-04-02T19:49:10.928630",
     "exception": false,
     "start_time": "2022-04-02T19:49:10.831259",
     "status": "completed"
    },
    "tags": []
   },
   "source": [
    "1. Logistic regression\n",
    "\n",
    "2. KNN or K-nearest Neighbours\n",
    "\n",
    "3. SVM\n",
    "\n",
    "4. Naive Bayes\n",
    "\n",
    "5. Decision tree\n",
    "\n",
    "6. Random Forest\n"
   ]
  },
  {
   "cell_type": "markdown",
   "id": "ef9d32a5",
   "metadata": {
    "papermill": {
     "duration": 0.100465,
     "end_time": "2022-04-02T19:49:11.125929",
     "exception": false,
     "start_time": "2022-04-02T19:49:11.025464",
     "status": "completed"
    },
    "tags": []
   },
   "source": [
    "prepair train set and test set:\n",
    "\n",
    "TrainX, TrainY\n",
    "\n",
    "TestX, TestY"
   ]
  },
  {
   "cell_type": "code",
   "execution_count": 45,
   "id": "4431a1b9",
   "metadata": {
    "execution": {
     "iopub.execute_input": "2022-04-02T19:49:11.328253Z",
     "iopub.status.busy": "2022-04-02T19:49:11.327524Z",
     "iopub.status.idle": "2022-04-02T19:49:11.333055Z",
     "shell.execute_reply": "2022-04-02T19:49:11.333520Z",
     "shell.execute_reply.started": "2022-04-02T19:48:06.060785Z"
    },
    "papermill": {
     "duration": 0.109112,
     "end_time": "2022-04-02T19:49:11.333691",
     "exception": false,
     "start_time": "2022-04-02T19:49:11.224579",
     "status": "completed"
    },
    "tags": []
   },
   "outputs": [
    {
     "data": {
      "text/plain": [
       "((891, 8), (891,), (418, 8))"
      ]
     },
     "execution_count": 45,
     "metadata": {},
     "output_type": "execute_result"
    }
   ],
   "source": [
    "X_train = train.drop(\"Survived\", axis=1)\n",
    "Y_train = train[\"Survived\"]\n",
    "X_test  = test.drop(\"PassengerId\", axis=1).copy()\n",
    "X_train.shape, Y_train.shape, X_test.shape"
   ]
  },
  {
   "cell_type": "code",
   "execution_count": 46,
   "id": "15c6e673",
   "metadata": {
    "execution": {
     "iopub.execute_input": "2022-04-02T19:49:11.536816Z",
     "iopub.status.busy": "2022-04-02T19:49:11.536176Z",
     "iopub.status.idle": "2022-04-02T19:49:11.818378Z",
     "shell.execute_reply": "2022-04-02T19:49:11.817752Z",
     "shell.execute_reply.started": "2022-04-02T19:48:06.072664Z"
    },
    "papermill": {
     "duration": 0.385589,
     "end_time": "2022-04-02T19:49:11.818583",
     "exception": false,
     "start_time": "2022-04-02T19:49:11.432994",
     "status": "completed"
    },
    "tags": []
   },
   "outputs": [
    {
     "data": {
      "text/plain": [
       "81.14"
      ]
     },
     "execution_count": 46,
     "metadata": {},
     "output_type": "execute_result"
    }
   ],
   "source": [
    "# logistic regression\n",
    "from sklearn.linear_model import LogisticRegression\n",
    "logreg = LogisticRegression()\n",
    "logreg.fit(X_train, Y_train)\n",
    "Y_pred = logreg.predict(X_test)\n",
    "acc_log = round(logreg.score(X_train, Y_train) * 100 ,2)\n",
    "acc_log"
   ]
  },
  {
   "cell_type": "code",
   "execution_count": 47,
   "id": "550a0a82",
   "metadata": {
    "execution": {
     "iopub.execute_input": "2022-04-02T19:49:12.020917Z",
     "iopub.status.busy": "2022-04-02T19:49:12.020228Z",
     "iopub.status.idle": "2022-04-02T19:49:12.031711Z",
     "shell.execute_reply": "2022-04-02T19:49:12.032283Z",
     "shell.execute_reply.started": "2022-04-02T19:48:06.103978Z"
    },
    "papermill": {
     "duration": 0.113432,
     "end_time": "2022-04-02T19:49:12.032447",
     "exception": false,
     "start_time": "2022-04-02T19:49:11.919015",
     "status": "completed"
    },
    "tags": []
   },
   "outputs": [
    {
     "data": {
      "text/html": [
       "<div>\n",
       "<style scoped>\n",
       "    .dataframe tbody tr th:only-of-type {\n",
       "        vertical-align: middle;\n",
       "    }\n",
       "\n",
       "    .dataframe tbody tr th {\n",
       "        vertical-align: top;\n",
       "    }\n",
       "\n",
       "    .dataframe thead th {\n",
       "        text-align: right;\n",
       "    }\n",
       "</style>\n",
       "<table border=\"1\" class=\"dataframe\">\n",
       "  <thead>\n",
       "    <tr style=\"text-align: right;\">\n",
       "      <th></th>\n",
       "      <th>Feature</th>\n",
       "      <th>correlation</th>\n",
       "    </tr>\n",
       "  </thead>\n",
       "  <tbody>\n",
       "    <tr>\n",
       "      <th>1</th>\n",
       "      <td>Sex</td>\n",
       "      <td>2.218576</td>\n",
       "    </tr>\n",
       "    <tr>\n",
       "      <th>5</th>\n",
       "      <td>Title</td>\n",
       "      <td>0.415625</td>\n",
       "    </tr>\n",
       "    <tr>\n",
       "      <th>6</th>\n",
       "      <td>Is_alone</td>\n",
       "      <td>0.309935</td>\n",
       "    </tr>\n",
       "    <tr>\n",
       "      <th>4</th>\n",
       "      <td>Embarked</td>\n",
       "      <td>0.279910</td>\n",
       "    </tr>\n",
       "    <tr>\n",
       "      <th>3</th>\n",
       "      <td>Fare</td>\n",
       "      <td>-0.000575</td>\n",
       "    </tr>\n",
       "    <tr>\n",
       "      <th>7</th>\n",
       "      <td>Age*Pclass</td>\n",
       "      <td>-0.028927</td>\n",
       "    </tr>\n",
       "    <tr>\n",
       "      <th>2</th>\n",
       "      <td>Age</td>\n",
       "      <td>-0.504127</td>\n",
       "    </tr>\n",
       "    <tr>\n",
       "      <th>0</th>\n",
       "      <td>Pclass</td>\n",
       "      <td>-1.128171</td>\n",
       "    </tr>\n",
       "  </tbody>\n",
       "</table>\n",
       "</div>"
      ],
      "text/plain": [
       "      Feature  correlation\n",
       "1         Sex     2.218576\n",
       "5       Title     0.415625\n",
       "6    Is_alone     0.309935\n",
       "4    Embarked     0.279910\n",
       "3        Fare    -0.000575\n",
       "7  Age*Pclass    -0.028927\n",
       "2         Age    -0.504127\n",
       "0      Pclass    -1.128171"
      ]
     },
     "execution_count": 47,
     "metadata": {},
     "output_type": "execute_result"
    }
   ],
   "source": [
    "# logistic regression correlation\n",
    "coef = pd.DataFrame(train.columns.delete(0))\n",
    "coef.columns = ['Feature']\n",
    "coef['correlation'] = pd.Series(logreg.coef_[0])\n",
    "coef.sort_values(by='correlation', ascending=False)"
   ]
  },
  {
   "cell_type": "code",
   "execution_count": 48,
   "id": "da4ecd3f",
   "metadata": {
    "execution": {
     "iopub.execute_input": "2022-04-02T19:49:12.236963Z",
     "iopub.status.busy": "2022-04-02T19:49:12.236262Z",
     "iopub.status.idle": "2022-04-02T19:49:12.317118Z",
     "shell.execute_reply": "2022-04-02T19:49:12.317613Z",
     "shell.execute_reply.started": "2022-04-02T19:48:06.118172Z"
    },
    "papermill": {
     "duration": 0.184636,
     "end_time": "2022-04-02T19:49:12.317804",
     "exception": false,
     "start_time": "2022-04-02T19:49:12.133168",
     "status": "completed"
    },
    "tags": []
   },
   "outputs": [
    {
     "data": {
      "text/plain": [
       "78.34"
      ]
     },
     "execution_count": 48,
     "metadata": {},
     "output_type": "execute_result"
    }
   ],
   "source": [
    "# Support vector Machines\n",
    "from sklearn.svm import SVC, LinearSVC\n",
    "svc = SVC()\n",
    "svc.fit(X_train, Y_train)\n",
    "Y_pred = svc.predict(X_test)\n",
    "acc_svc = round(svc.score(X_train, Y_train)*100 ,2)\n",
    "acc_svc"
   ]
  },
  {
   "cell_type": "code",
   "execution_count": 49,
   "id": "f9077b71",
   "metadata": {
    "execution": {
     "iopub.execute_input": "2022-04-02T19:49:12.519492Z",
     "iopub.status.busy": "2022-04-02T19:49:12.518887Z",
     "iopub.status.idle": "2022-04-02T19:49:12.639865Z",
     "shell.execute_reply": "2022-04-02T19:49:12.640389Z",
     "shell.execute_reply.started": "2022-04-02T19:48:06.202254Z"
    },
    "papermill": {
     "duration": 0.223372,
     "end_time": "2022-04-02T19:49:12.640559",
     "exception": false,
     "start_time": "2022-04-02T19:49:12.417187",
     "status": "completed"
    },
    "tags": []
   },
   "outputs": [
    {
     "data": {
      "text/plain": [
       "83.95"
      ]
     },
     "execution_count": 49,
     "metadata": {},
     "output_type": "execute_result"
    }
   ],
   "source": [
    "# KNN\n",
    "from sklearn.neighbors import KNeighborsClassifier\n",
    "knn = KNeighborsClassifier()\n",
    "knn.fit(X_train, Y_train)\n",
    "Y_pred = knn.predict(X_test)\n",
    "acc_knn = round(knn.score(X_train, Y_train)*100, 2)\n",
    "acc_knn"
   ]
  },
  {
   "cell_type": "code",
   "execution_count": 50,
   "id": "d1a3d154",
   "metadata": {
    "execution": {
     "iopub.execute_input": "2022-04-02T19:49:12.882418Z",
     "iopub.status.busy": "2022-04-02T19:49:12.881654Z",
     "iopub.status.idle": "2022-04-02T19:49:12.894779Z",
     "shell.execute_reply": "2022-04-02T19:49:12.895289Z",
     "shell.execute_reply.started": "2022-04-02T19:48:06.271076Z"
    },
    "papermill": {
     "duration": 0.130512,
     "end_time": "2022-04-02T19:49:12.895457",
     "exception": false,
     "start_time": "2022-04-02T19:49:12.764945",
     "status": "completed"
    },
    "tags": []
   },
   "outputs": [
    {
     "data": {
      "text/plain": [
       "77.55"
      ]
     },
     "execution_count": 50,
     "metadata": {},
     "output_type": "execute_result"
    }
   ],
   "source": [
    "# Gussian NB\n",
    "from sklearn.naive_bayes import GaussianNB\n",
    "nb = GaussianNB()\n",
    "nb.fit(X_train, Y_train)\n",
    "Y_pred = nb.predict(X_test)\n",
    "acc_nb = round(100 * nb.score(X_train, Y_train),2)\n",
    "acc_nb"
   ]
  },
  {
   "cell_type": "code",
   "execution_count": 51,
   "id": "5a95b18b",
   "metadata": {
    "execution": {
     "iopub.execute_input": "2022-04-02T19:49:13.100756Z",
     "iopub.status.busy": "2022-04-02T19:49:13.100123Z",
     "iopub.status.idle": "2022-04-02T19:49:13.139913Z",
     "shell.execute_reply": "2022-04-02T19:49:13.140358Z",
     "shell.execute_reply.started": "2022-04-02T19:48:06.285066Z"
    },
    "papermill": {
     "duration": 0.143658,
     "end_time": "2022-04-02T19:49:13.140527",
     "exception": false,
     "start_time": "2022-04-02T19:49:12.996869",
     "status": "completed"
    },
    "tags": []
   },
   "outputs": [
    {
     "data": {
      "text/plain": [
       "89.67"
      ]
     },
     "execution_count": 51,
     "metadata": {},
     "output_type": "execute_result"
    }
   ],
   "source": [
    "#Decision tree\n",
    "from sklearn.tree import DecisionTreeClassifier\n",
    "tree = DecisionTreeClassifier()\n",
    "tree.fit(X_train, Y_train)\n",
    "Y_pred = tree.predict(X_test)\n",
    "acc_tree = round(100* tree.score(X_train, Y_train),2)\n",
    "acc_tree"
   ]
  },
  {
   "cell_type": "code",
   "execution_count": 52,
   "id": "a9324c87",
   "metadata": {
    "execution": {
     "iopub.execute_input": "2022-04-02T19:49:13.345538Z",
     "iopub.status.busy": "2022-04-02T19:49:13.344556Z",
     "iopub.status.idle": "2022-04-02T19:49:13.655640Z",
     "shell.execute_reply": "2022-04-02T19:49:13.656154Z",
     "shell.execute_reply.started": "2022-04-02T19:48:06.300559Z"
    },
    "papermill": {
     "duration": 0.414701,
     "end_time": "2022-04-02T19:49:13.656335",
     "exception": false,
     "start_time": "2022-04-02T19:49:13.241634",
     "status": "completed"
    },
    "tags": []
   },
   "outputs": [
    {
     "data": {
      "text/plain": [
       "89.67"
      ]
     },
     "execution_count": 52,
     "metadata": {},
     "output_type": "execute_result"
    }
   ],
   "source": [
    "# Random forest\n",
    "from sklearn.ensemble import RandomForestClassifier\n",
    "rf = RandomForestClassifier()\n",
    "rf.fit(X_train, Y_train)\n",
    "Y_pred = rf.predict(X_test)\n",
    "acc_rf = round(100 * rf.score(X_train, Y_train),2)\n",
    "acc_rf"
   ]
  },
  {
   "cell_type": "code",
   "execution_count": 53,
   "id": "bf67c602",
   "metadata": {
    "execution": {
     "iopub.execute_input": "2022-04-02T19:49:13.862707Z",
     "iopub.status.busy": "2022-04-02T19:49:13.861582Z",
     "iopub.status.idle": "2022-04-02T19:49:13.879289Z",
     "shell.execute_reply": "2022-04-02T19:49:13.879969Z",
     "shell.execute_reply.started": "2022-04-02T19:48:06.547081Z"
    },
    "papermill": {
     "duration": 0.122839,
     "end_time": "2022-04-02T19:49:13.880156",
     "exception": false,
     "start_time": "2022-04-02T19:49:13.757317",
     "status": "completed"
    },
    "tags": []
   },
   "outputs": [
    {
     "data": {
      "text/plain": [
       "78.56"
      ]
     },
     "execution_count": 53,
     "metadata": {},
     "output_type": "execute_result"
    }
   ],
   "source": [
    "# SGD\n",
    "from sklearn.linear_model import SGDClassifier\n",
    "sgd = SGDClassifier()\n",
    "sgd.fit(X_train, Y_train)\n",
    "Y_pred = sgd.predict(X_test)\n",
    "acc_sgd = round(100*sgd.score(X_train, Y_train), 2)\n",
    "acc_sgd"
   ]
  },
  {
   "cell_type": "markdown",
   "id": "8ebcaa44",
   "metadata": {
    "papermill": {
     "duration": 0.101894,
     "end_time": "2022-04-02T19:49:14.083624",
     "exception": false,
     "start_time": "2022-04-02T19:49:13.981730",
     "status": "completed"
    },
    "tags": []
   },
   "source": [
    "**MODEL EVALUATION**"
   ]
  },
  {
   "cell_type": "code",
   "execution_count": 54,
   "id": "fd3777b6",
   "metadata": {
    "execution": {
     "iopub.execute_input": "2022-04-02T19:49:14.291729Z",
     "iopub.status.busy": "2022-04-02T19:49:14.290773Z",
     "iopub.status.idle": "2022-04-02T19:49:14.303185Z",
     "shell.execute_reply": "2022-04-02T19:49:14.303714Z",
     "shell.execute_reply.started": "2022-04-02T19:48:06.568918Z"
    },
    "papermill": {
     "duration": 0.116906,
     "end_time": "2022-04-02T19:49:14.303898",
     "exception": false,
     "start_time": "2022-04-02T19:49:14.186992",
     "status": "completed"
    },
    "tags": []
   },
   "outputs": [
    {
     "data": {
      "text/html": [
       "<div>\n",
       "<style scoped>\n",
       "    .dataframe tbody tr th:only-of-type {\n",
       "        vertical-align: middle;\n",
       "    }\n",
       "\n",
       "    .dataframe tbody tr th {\n",
       "        vertical-align: top;\n",
       "    }\n",
       "\n",
       "    .dataframe thead th {\n",
       "        text-align: right;\n",
       "    }\n",
       "</style>\n",
       "<table border=\"1\" class=\"dataframe\">\n",
       "  <thead>\n",
       "    <tr style=\"text-align: right;\">\n",
       "      <th></th>\n",
       "      <th>Model</th>\n",
       "      <th>Score</th>\n",
       "    </tr>\n",
       "  </thead>\n",
       "  <tbody>\n",
       "    <tr>\n",
       "      <th>4</th>\n",
       "      <td>Decision Tree</td>\n",
       "      <td>89.67</td>\n",
       "    </tr>\n",
       "    <tr>\n",
       "      <th>5</th>\n",
       "      <td>Random Forest</td>\n",
       "      <td>89.67</td>\n",
       "    </tr>\n",
       "    <tr>\n",
       "      <th>2</th>\n",
       "      <td>KNN</td>\n",
       "      <td>83.95</td>\n",
       "    </tr>\n",
       "    <tr>\n",
       "      <th>0</th>\n",
       "      <td>Logistic Regression</td>\n",
       "      <td>81.14</td>\n",
       "    </tr>\n",
       "    <tr>\n",
       "      <th>6</th>\n",
       "      <td>SGD</td>\n",
       "      <td>78.56</td>\n",
       "    </tr>\n",
       "    <tr>\n",
       "      <th>1</th>\n",
       "      <td>Support Vector Machine</td>\n",
       "      <td>78.34</td>\n",
       "    </tr>\n",
       "    <tr>\n",
       "      <th>3</th>\n",
       "      <td>Gaussian NB</td>\n",
       "      <td>77.55</td>\n",
       "    </tr>\n",
       "  </tbody>\n",
       "</table>\n",
       "</div>"
      ],
      "text/plain": [
       "                    Model  Score\n",
       "4           Decision Tree  89.67\n",
       "5           Random Forest  89.67\n",
       "2                     KNN  83.95\n",
       "0     Logistic Regression  81.14\n",
       "6                     SGD  78.56\n",
       "1  Support Vector Machine  78.34\n",
       "3             Gaussian NB  77.55"
      ]
     },
     "execution_count": 54,
     "metadata": {},
     "output_type": "execute_result"
    }
   ],
   "source": [
    "models = pd.DataFrame({\n",
    "    'Model' : ['Logistic Regression', 'Support Vector Machine', 'KNN', 'Gaussian NB', 'Decision Tree', 'Random Forest', 'SGD'],\n",
    "    'Score' : [acc_log, acc_svc, acc_knn, acc_nb, acc_tree, acc_rf, acc_sgd ]\n",
    "})\n",
    "models.sort_values(by='Score', ascending=False)"
   ]
  },
  {
   "cell_type": "markdown",
   "id": "7eb868a6",
   "metadata": {
    "papermill": {
     "duration": 0.101179,
     "end_time": "2022-04-02T19:49:14.506323",
     "exception": false,
     "start_time": "2022-04-02T19:49:14.405144",
     "status": "completed"
    },
    "tags": []
   },
   "source": [
    "we will use Random Forest model to predict"
   ]
  },
  {
   "cell_type": "code",
   "execution_count": 55,
   "id": "5629c89c",
   "metadata": {
    "execution": {
     "iopub.execute_input": "2022-04-02T19:49:14.714413Z",
     "iopub.status.busy": "2022-04-02T19:49:14.713440Z",
     "iopub.status.idle": "2022-04-02T19:49:14.957028Z",
     "shell.execute_reply": "2022-04-02T19:49:14.957629Z",
     "shell.execute_reply.started": "2022-04-02T19:48:06.582753Z"
    },
    "papermill": {
     "duration": 0.350583,
     "end_time": "2022-04-02T19:49:14.957812",
     "exception": false,
     "start_time": "2022-04-02T19:49:14.607229",
     "status": "completed"
    },
    "tags": []
   },
   "outputs": [
    {
     "data": {
      "text/plain": [
       "89.67"
      ]
     },
     "execution_count": 55,
     "metadata": {},
     "output_type": "execute_result"
    }
   ],
   "source": [
    "from sklearn.ensemble import RandomForestClassifier\n",
    "rf = RandomForestClassifier()\n",
    "rf.fit(X_train, Y_train)\n",
    "rf_Y_pred = rf.predict(X_test)\n",
    "acc_rf = round(100 * rf.score(X_train, Y_train),2)\n",
    "acc_rf"
   ]
  },
  {
   "cell_type": "code",
   "execution_count": 56,
   "id": "45cacca5",
   "metadata": {
    "execution": {
     "iopub.execute_input": "2022-04-02T19:49:15.169389Z",
     "iopub.status.busy": "2022-04-02T19:49:15.168410Z",
     "iopub.status.idle": "2022-04-02T19:49:15.173257Z",
     "shell.execute_reply": "2022-04-02T19:49:15.173864Z",
     "shell.execute_reply.started": "2022-04-02T19:48:06.830407Z"
    },
    "papermill": {
     "duration": 0.112154,
     "end_time": "2022-04-02T19:49:15.174035",
     "exception": false,
     "start_time": "2022-04-02T19:49:15.061881",
     "status": "completed"
    },
    "tags": []
   },
   "outputs": [],
   "source": [
    "submission = pd.DataFrame({\n",
    "        \"PassengerId\": test[\"PassengerId\"],\n",
    "        \"Survived\": rf_Y_pred\n",
    "    })\n",
    "#submission.to_csv('submission1.csv', index=False)"
   ]
  }
 ],
 "metadata": {
  "kernelspec": {
   "display_name": "Python 3",
   "language": "python",
   "name": "python3"
  },
  "language_info": {
   "codemirror_mode": {
    "name": "ipython",
    "version": 3
   },
   "file_extension": ".py",
   "mimetype": "text/x-python",
   "name": "python",
   "nbconvert_exporter": "python",
   "pygments_lexer": "ipython3",
   "version": "3.7.12"
  },
  "papermill": {
   "default_parameters": {},
   "duration": 34.671045,
   "end_time": "2022-04-02T19:49:16.086105",
   "environment_variables": {},
   "exception": null,
   "input_path": "__notebook__.ipynb",
   "output_path": "__notebook__.ipynb",
   "parameters": {},
   "start_time": "2022-04-02T19:48:41.415060",
   "version": "2.3.3"
  }
 },
 "nbformat": 4,
 "nbformat_minor": 5
}
