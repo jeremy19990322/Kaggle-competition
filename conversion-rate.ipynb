{
 "cells": [
  {
   "cell_type": "code",
   "execution_count": 1,
   "id": "14a2d4cd",
   "metadata": {
    "_cell_guid": "b1076dfc-b9ad-4769-8c92-a6c4dae69d19",
    "_uuid": "8f2839f25d086af736a60e9eeb907d3b93b6e0e5",
    "execution": {
     "iopub.execute_input": "2022-04-03T19:31:16.760918Z",
     "iopub.status.busy": "2022-04-03T19:31:16.760170Z",
     "iopub.status.idle": "2022-04-03T19:31:16.764686Z",
     "shell.execute_reply": "2022-04-03T19:31:16.765265Z"
    },
    "papermill": {
     "duration": 0.048292,
     "end_time": "2022-04-03T19:31:16.765614",
     "exception": false,
     "start_time": "2022-04-03T19:31:16.717322",
     "status": "completed"
    },
    "tags": []
   },
   "outputs": [],
   "source": [
    "# This Python 3 environment comes with many helpful analytics libraries installed\n",
    "# It is defined by the kaggle/python Docker image: https://github.com/kaggle/docker-python\n",
    "# For example, here's several helpful packages to load\n",
    "\n",
    "import numpy as np # linear algebra\n",
    "import pandas as pd # data processing, CSV file I/O (e.g. pd.read_csv)\n",
    "\n",
    "# Input data files are available in the read-only \"../input/\" directory\n",
    "# For example, running this (by clicking run or pressing Shift+Enter) will list all files under the input directory\n",
    "\n",
    "import os\n",
    "for dirname, _, filenames in os.walk('/kaggle/input'):\n",
    "    for filename in filenames:\n",
    "        print(os.path.join(dirname, filename))\n",
    "\n",
    "# You can write up to 20GB to the current directory (/kaggle/working/) that gets preserved as output when you create a version using \"Save & Run All\" \n",
    "# You can also write temporary files to /kaggle/temp/, but they won't be saved outside of the current session"
   ]
  },
  {
   "cell_type": "markdown",
   "id": "230351c7",
   "metadata": {
    "papermill": {
     "duration": 0.031817,
     "end_time": "2022-04-03T19:31:16.829799",
     "exception": false,
     "start_time": "2022-04-03T19:31:16.797982",
     "status": "completed"
    },
    "tags": []
   },
   "source": [
    " Goal:build a model that predicts conversion rate and, based on the model, come up with ideas to improve it.\n",
    "\n"
   ]
  },
  {
   "cell_type": "code",
   "execution_count": 2,
   "id": "8f4d19ac",
   "metadata": {
    "execution": {
     "iopub.execute_input": "2022-04-03T19:31:16.926085Z",
     "iopub.status.busy": "2022-04-03T19:31:16.925315Z",
     "iopub.status.idle": "2022-04-03T19:31:18.957395Z",
     "shell.execute_reply": "2022-04-03T19:31:18.956554Z",
     "shell.execute_reply.started": "2022-04-03T18:44:37.733499Z"
    },
    "papermill": {
     "duration": 2.092191,
     "end_time": "2022-04-03T19:31:18.957568",
     "exception": false,
     "start_time": "2022-04-03T19:31:16.865377",
     "status": "completed"
    },
    "tags": []
   },
   "outputs": [
    {
     "name": "stdout",
     "output_type": "stream",
     "text": [
      "  country  age  new_user source  total_pages_visited  converted\n",
      "0      UK   25         1    Ads                    1          0\n",
      "1      US   23         1    Seo                    5          0\n",
      "2      US   28         1    Seo                    4          0\n",
      "3   China   39         1    Seo                    5          0\n",
      "4      US   30         1    Seo                    6          0\n"
     ]
    }
   ],
   "source": [
    "import pandas as pd\n",
    "\n",
    "pd.set_option('display.max_columns', 10)\n",
    "pd.set_option('display.width', 350)\n",
    "\n",
    "#read from google drive\n",
    "data=pd.read_csv(\"https://drive.google.com/uc?export=download&id=1LU5be_H1TD2Pp1OmI202to3YyKo9AzFY\")\n",
    "\n",
    "print(data.head())\n"
   ]
  },
  {
   "cell_type": "markdown",
   "id": "369368ab",
   "metadata": {
    "papermill": {
     "duration": 0.031872,
     "end_time": "2022-04-03T19:31:19.022170",
     "exception": false,
     "start_time": "2022-04-03T19:31:18.990298",
     "status": "completed"
    },
    "tags": []
   },
   "source": [
    "Data inspectation"
   ]
  },
  {
   "cell_type": "code",
   "execution_count": 3,
   "id": "efd2f50e",
   "metadata": {
    "execution": {
     "iopub.execute_input": "2022-04-03T19:31:19.106772Z",
     "iopub.status.busy": "2022-04-03T19:31:19.105926Z",
     "iopub.status.idle": "2022-04-03T19:31:19.215220Z",
     "shell.execute_reply": "2022-04-03T19:31:19.214166Z",
     "shell.execute_reply.started": "2022-04-03T18:45:34.956194Z"
    },
    "papermill": {
     "duration": 0.160899,
     "end_time": "2022-04-03T19:31:19.215458",
     "exception": false,
     "start_time": "2022-04-03T19:31:19.054559",
     "status": "completed"
    },
    "tags": []
   },
   "outputs": [
    {
     "name": "stdout",
     "output_type": "stream",
     "text": [
      "                 age       new_user  total_pages_visited      converted\n",
      "count  316200.000000  316200.000000        316200.000000  316200.000000\n",
      "mean       30.569858       0.685465             4.872966       0.032258\n",
      "std         8.271802       0.464331             3.341104       0.176685\n",
      "min        17.000000       0.000000             1.000000       0.000000\n",
      "25%        24.000000       0.000000             2.000000       0.000000\n",
      "50%        30.000000       1.000000             4.000000       0.000000\n",
      "75%        36.000000       1.000000             7.000000       0.000000\n",
      "max       123.000000       1.000000            29.000000       1.000000\n",
      "country\n",
      "China       76602\n",
      "Germany     13056\n",
      "UK          48450\n",
      "US         178092\n",
      "dtype: int64\n",
      "source\n",
      "Ads        88740\n",
      "Direct     72420\n",
      "Seo       155040\n",
      "dtype: int64\n"
     ]
    }
   ],
   "source": [
    "print(data.describe())\n",
    "print(data.groupby(['country']).size())\n",
    "print(data.groupby(['source']).size())\n"
   ]
  },
  {
   "cell_type": "markdown",
   "id": "194c6bf6",
   "metadata": {
    "papermill": {
     "duration": 0.033529,
     "end_time": "2022-04-03T19:31:19.282690",
     "exception": false,
     "start_time": "2022-04-03T19:31:19.249161",
     "status": "completed"
    },
    "tags": []
   },
   "source": [
    "first sight observations:\n",
    "\n",
    "This site is a US site\n",
    "\n",
    "Users are pretty young\n",
    "\n",
    "It makes sense that conversion rate at around 3% which is industry standard\n",
    "\n",
    "Max age is 123 which is not normal"
   ]
  },
  {
   "cell_type": "code",
   "execution_count": 4,
   "id": "70914194",
   "metadata": {
    "execution": {
     "iopub.execute_input": "2022-04-03T19:31:19.409408Z",
     "iopub.status.busy": "2022-04-03T19:31:19.353999Z",
     "iopub.status.idle": "2022-04-03T19:31:19.427820Z",
     "shell.execute_reply": "2022-04-03T19:31:19.426722Z",
     "shell.execute_reply.started": "2022-04-03T18:45:55.690053Z"
    },
    "papermill": {
     "duration": 0.111772,
     "end_time": "2022-04-03T19:31:19.428076",
     "exception": false,
     "start_time": "2022-04-03T19:31:19.316304",
     "status": "completed"
    },
    "tags": []
   },
   "outputs": [
    {
     "name": "stdout",
     "output_type": "stream",
     "text": [
      "<class 'pandas.core.frame.DataFrame'>\n",
      "RangeIndex: 316200 entries, 0 to 316199\n",
      "Data columns (total 6 columns):\n",
      " #   Column               Non-Null Count   Dtype \n",
      "---  ------               --------------   ----- \n",
      " 0   country              316200 non-null  object\n",
      " 1   age                  316200 non-null  int64 \n",
      " 2   new_user             316200 non-null  int64 \n",
      " 3   source               316200 non-null  object\n",
      " 4   total_pages_visited  316200 non-null  int64 \n",
      " 5   converted            316200 non-null  int64 \n",
      "dtypes: int64(4), object(2)\n",
      "memory usage: 14.5+ MB\n",
      "None\n"
     ]
    }
   ],
   "source": [
    "print(data.info())"
   ]
  },
  {
   "cell_type": "markdown",
   "id": "3cddde40",
   "metadata": {
    "papermill": {
     "duration": 0.034929,
     "end_time": "2022-04-03T19:31:19.497551",
     "exception": false,
     "start_time": "2022-04-03T19:31:19.462622",
     "status": "completed"
    },
    "tags": []
   },
   "source": [
    "Every column is completely filled"
   ]
  },
  {
   "cell_type": "code",
   "execution_count": 5,
   "id": "d381fc52",
   "metadata": {
    "execution": {
     "iopub.execute_input": "2022-04-03T19:31:19.570167Z",
     "iopub.status.busy": "2022-04-03T19:31:19.569275Z",
     "iopub.status.idle": "2022-04-03T19:31:19.575948Z",
     "shell.execute_reply": "2022-04-03T19:31:19.575220Z",
     "shell.execute_reply.started": "2022-04-03T18:48:24.075689Z"
    },
    "papermill": {
     "duration": 0.045413,
     "end_time": "2022-04-03T19:31:19.576124",
     "exception": false,
     "start_time": "2022-04-03T19:31:19.530711",
     "status": "completed"
    },
    "tags": []
   },
   "outputs": [
    {
     "name": "stdout",
     "output_type": "stream",
     "text": [
      "[123, 111, 79, 77, 73, 72, 70, 69, 68, 67, 66, 65, 64, 63, 62, 61, 60, 59, 58, 57, 56, 55, 54, 53, 52, 51, 50, 49, 48, 47, 46, 45, 44, 43, 42, 41, 40, 39, 38, 37, 36, 35, 34, 33, 32, 31, 30, 29, 28, 27, 26, 25, 24, 23, 22, 21, 20, 19, 18, 17]\n"
     ]
    }
   ],
   "source": [
    "print(sorted(data['age'].unique(), reverse=True))"
   ]
  },
  {
   "cell_type": "markdown",
   "id": "927c784c",
   "metadata": {
    "papermill": {
     "duration": 0.034009,
     "end_time": "2022-04-03T19:31:19.644283",
     "exception": false,
     "start_time": "2022-04-03T19:31:19.610274",
     "status": "completed"
    },
    "tags": []
   },
   "source": [
    "age 123 and 111 should be removed from our data"
   ]
  },
  {
   "cell_type": "code",
   "execution_count": 6,
   "id": "2b15fb29",
   "metadata": {
    "execution": {
     "iopub.execute_input": "2022-04-03T19:31:19.718331Z",
     "iopub.status.busy": "2022-04-03T19:31:19.717594Z",
     "iopub.status.idle": "2022-04-03T19:31:19.813657Z",
     "shell.execute_reply": "2022-04-03T19:31:19.813016Z",
     "shell.execute_reply.started": "2022-04-03T18:50:03.096412Z"
    },
    "papermill": {
     "duration": 0.135349,
     "end_time": "2022-04-03T19:31:19.813819",
     "exception": false,
     "start_time": "2022-04-03T19:31:19.678470",
     "status": "completed"
    },
    "tags": []
   },
   "outputs": [
    {
     "name": "stdout",
     "output_type": "stream",
     "text": [
      "[79, 77, 73, 72, 70, 69, 68, 67, 66, 65, 64, 63, 62, 61, 60, 59, 58, 57, 56, 55, 54, 53, 52, 51, 50, 49, 48, 47, 46, 45, 44, 43, 42, 41, 40, 39, 38, 37, 36, 35, 34, 33, 32, 31, 30, 29, 28, 27, 26, 25, 24, 23, 22, 21, 20, 19, 18, 17]\n",
      "<class 'pandas.core.frame.DataFrame'>\n",
      "Int64Index: 316198 entries, 0 to 316199\n",
      "Data columns (total 6 columns):\n",
      " #   Column               Non-Null Count   Dtype \n",
      "---  ------               --------------   ----- \n",
      " 0   country              316198 non-null  object\n",
      " 1   age                  316198 non-null  int64 \n",
      " 2   new_user             316198 non-null  int64 \n",
      " 3   source               316198 non-null  object\n",
      " 4   total_pages_visited  316198 non-null  int64 \n",
      " 5   converted            316198 non-null  int64 \n",
      "dtypes: int64(4), object(2)\n",
      "memory usage: 16.9+ MB\n",
      "None\n"
     ]
    }
   ],
   "source": [
    "data = data[data.age<111]\n",
    "print(sorted(data['age'].unique(), reverse=True))\n",
    "print(data.info())"
   ]
  },
  {
   "cell_type": "markdown",
   "id": "16c1ca59",
   "metadata": {
    "papermill": {
     "duration": 0.034547,
     "end_time": "2022-04-03T19:31:19.883221",
     "exception": false,
     "start_time": "2022-04-03T19:31:19.848674",
     "status": "completed"
    },
    "tags": []
   },
   "source": [
    "Display the relationship between each feature and converting classes"
   ]
  },
  {
   "cell_type": "code",
   "execution_count": 7,
   "id": "6c8e6b20",
   "metadata": {
    "execution": {
     "iopub.execute_input": "2022-04-03T19:31:19.981133Z",
     "iopub.status.busy": "2022-04-03T19:31:19.967964Z",
     "iopub.status.idle": "2022-04-03T19:31:21.376831Z",
     "shell.execute_reply": "2022-04-03T19:31:21.377430Z",
     "shell.execute_reply.started": "2022-04-03T18:52:58.847247Z"
    },
    "papermill": {
     "duration": 1.45699,
     "end_time": "2022-04-03T19:31:21.377623",
     "exception": false,
     "start_time": "2022-04-03T19:31:19.920633",
     "status": "completed"
    },
    "tags": []
   },
   "outputs": [
    {
     "data": {
      "image/png": "[encoded data removed]",
      "text/plain": [
       "<Figure size 432x288 with 1 Axes>"
      ]
     },
     "metadata": {
      "needs_background": "light"
     },
     "output_type": "display_data"
    },
    {
     "data": {
      "image/png": "[encoded data removed]",
      "text/plain": [
       "<Figure size 432x288 with 1 Axes>"
      ]
     },
     "metadata": {
      "needs_background": "light"
     },
     "output_type": "display_data"
    },
    {
     "data": {
      "image/png": "[encoded data removed]",
      "text/plain": [
       "<Figure size 432x288 with 1 Axes>"
      ]
     },
     "metadata": {
      "needs_background": "light"
     },
     "output_type": "display_data"
    },
    {
     "data": {
      "image/png": "[encoded data removed]",
      "text/plain": [
       "<Figure size 432x288 with 1 Axes>"
      ]
     },
     "metadata": {
      "needs_background": "light"
     },
     "output_type": "display_data"
    },
    {
     "data": {
      "image/png": "[encoded data removed]",
      "text/plain": [
       "<Figure size 432x288 with 1 Axes>"
      ]
     },
     "metadata": {
      "needs_background": "light"
     },
     "output_type": "display_data"
    }
   ],
   "source": [
    "import matplotlib.pyplot as plt\n",
    "from matplotlib import rcParams\n",
    "rcParams.update({'figure.autolayout': True})\n",
    "  \n",
    "data.groupby(['country'])['converted'].mean().plot.bar()\n",
    "plt.show()\n",
    "\n",
    "data.groupby(['total_pages_visited'])['converted'].mean().plot()\n",
    "plt.show()\n",
    "\n",
    "data.groupby(['age'])['converted'].mean().plot()\n",
    "plt.show()\n",
    "\n",
    "data.groupby(['new_user'])['converted'].mean().plot.bar()\n",
    "plt.show()\n",
    "\n",
    "data.groupby(['source'])['converted'].mean().plot.bar()\n",
    "plt.show()"
   ]
  },
  {
   "cell_type": "markdown",
   "id": "d9b02341",
   "metadata": {
    "papermill": {
     "duration": 0.037954,
     "end_time": "2022-04-03T19:31:21.454799",
     "exception": false,
     "start_time": "2022-04-03T19:31:21.416845",
     "status": "completed"
    },
    "tags": []
   },
   "source": [
    "**Model Building**"
   ]
  },
  {
   "cell_type": "markdown",
   "id": "62971a4d",
   "metadata": {
    "papermill": {
     "duration": 0.038914,
     "end_time": "2022-04-03T19:31:21.533320",
     "exception": false,
     "start_time": "2022-04-03T19:31:21.494406",
     "status": "completed"
    },
    "tags": []
   },
   "source": [
    "1. Logistic regression\n",
    "\n",
    "2. decision tree\n",
    "\n",
    "3. random forest"
   ]
  },
  {
   "cell_type": "markdown",
   "id": "ff5c98d3",
   "metadata": {
    "papermill": {
     "duration": 0.03916,
     "end_time": "2022-04-03T19:31:21.611858",
     "exception": false,
     "start_time": "2022-04-03T19:31:21.572698",
     "status": "completed"
    },
    "tags": []
   },
   "source": [
    "create dummy variables and prepair training set and testing set"
   ]
  },
  {
   "cell_type": "code",
   "execution_count": 8,
   "id": "32dd293a",
   "metadata": {
    "execution": {
     "iopub.execute_input": "2022-04-03T19:31:21.693971Z",
     "iopub.status.busy": "2022-04-03T19:31:21.693263Z",
     "iopub.status.idle": "2022-04-03T19:31:21.790571Z",
     "shell.execute_reply": "2022-04-03T19:31:21.791134Z",
     "shell.execute_reply.started": "2022-04-03T18:57:04.861303Z"
    },
    "papermill": {
     "duration": 0.140558,
     "end_time": "2022-04-03T19:31:21.791334",
     "exception": false,
     "start_time": "2022-04-03T19:31:21.650776",
     "status": "completed"
    },
    "tags": []
   },
   "outputs": [
    {
     "data": {
      "text/html": [
       "<div>\n",
       "<style scoped>\n",
       "    .dataframe tbody tr th:only-of-type {\n",
       "        vertical-align: middle;\n",
       "    }\n",
       "\n",
       "    .dataframe tbody tr th {\n",
       "        vertical-align: top;\n",
       "    }\n",
       "\n",
       "    .dataframe thead th {\n",
       "        text-align: right;\n",
       "    }\n",
       "</style>\n",
       "<table border=\"1\" class=\"dataframe\">\n",
       "  <thead>\n",
       "    <tr style=\"text-align: right;\">\n",
       "      <th></th>\n",
       "      <th>age</th>\n",
       "      <th>new_user</th>\n",
       "      <th>total_pages_visited</th>\n",
       "      <th>converted</th>\n",
       "      <th>country_Germany</th>\n",
       "      <th>country_UK</th>\n",
       "      <th>country_US</th>\n",
       "      <th>source_Direct</th>\n",
       "      <th>source_Seo</th>\n",
       "    </tr>\n",
       "  </thead>\n",
       "  <tbody>\n",
       "    <tr>\n",
       "      <th>0</th>\n",
       "      <td>25</td>\n",
       "      <td>1</td>\n",
       "      <td>1</td>\n",
       "      <td>0</td>\n",
       "      <td>0</td>\n",
       "      <td>1</td>\n",
       "      <td>0</td>\n",
       "      <td>0</td>\n",
       "      <td>0</td>\n",
       "    </tr>\n",
       "    <tr>\n",
       "      <th>1</th>\n",
       "      <td>23</td>\n",
       "      <td>1</td>\n",
       "      <td>5</td>\n",
       "      <td>0</td>\n",
       "      <td>0</td>\n",
       "      <td>0</td>\n",
       "      <td>1</td>\n",
       "      <td>0</td>\n",
       "      <td>1</td>\n",
       "    </tr>\n",
       "    <tr>\n",
       "      <th>2</th>\n",
       "      <td>28</td>\n",
       "      <td>1</td>\n",
       "      <td>4</td>\n",
       "      <td>0</td>\n",
       "      <td>0</td>\n",
       "      <td>0</td>\n",
       "      <td>1</td>\n",
       "      <td>0</td>\n",
       "      <td>1</td>\n",
       "    </tr>\n",
       "    <tr>\n",
       "      <th>3</th>\n",
       "      <td>39</td>\n",
       "      <td>1</td>\n",
       "      <td>5</td>\n",
       "      <td>0</td>\n",
       "      <td>0</td>\n",
       "      <td>0</td>\n",
       "      <td>0</td>\n",
       "      <td>0</td>\n",
       "      <td>1</td>\n",
       "    </tr>\n",
       "    <tr>\n",
       "      <th>4</th>\n",
       "      <td>30</td>\n",
       "      <td>1</td>\n",
       "      <td>6</td>\n",
       "      <td>0</td>\n",
       "      <td>0</td>\n",
       "      <td>0</td>\n",
       "      <td>1</td>\n",
       "      <td>0</td>\n",
       "      <td>1</td>\n",
       "    </tr>\n",
       "  </tbody>\n",
       "</table>\n",
       "</div>"
      ],
      "text/plain": [
       "   age  new_user  total_pages_visited  converted  country_Germany  country_UK  country_US  source_Direct  source_Seo\n",
       "0   25         1                    1          0                0           1           0              0           0\n",
       "1   23         1                    5          0                0           0           1              0           1\n",
       "2   28         1                    4          0                0           0           1              0           1\n",
       "3   39         1                    5          0                0           0           0              0           1\n",
       "4   30         1                    6          0                0           0           1              0           1"
      ]
     },
     "execution_count": 8,
     "metadata": {},
     "output_type": "execute_result"
    }
   ],
   "source": [
    "\n",
    "data_dummy = pd.get_dummies(data, drop_first=True)\n",
    "data_dummy.head()"
   ]
  },
  {
   "cell_type": "code",
   "execution_count": 9,
   "id": "680ee939",
   "metadata": {
    "execution": {
     "iopub.execute_input": "2022-04-03T19:31:21.874563Z",
     "iopub.status.busy": "2022-04-03T19:31:21.873822Z",
     "iopub.status.idle": "2022-04-03T19:31:23.010508Z",
     "shell.execute_reply": "2022-04-03T19:31:23.009875Z",
     "shell.execute_reply.started": "2022-04-03T19:02:45.999949Z"
    },
    "papermill": {
     "duration": 1.179486,
     "end_time": "2022-04-03T19:31:23.010664",
     "exception": false,
     "start_time": "2022-04-03T19:31:21.831178",
     "status": "completed"
    },
    "tags": []
   },
   "outputs": [],
   "source": [
    "from sklearn.model_selection import train_test_split\n",
    "train, test = train_test_split(data_dummy, test_size = 0.3)\n",
    "\n",
    "X_train = train.drop('converted', axis=1)\n",
    "Y_train = train['converted']\n",
    "X_test = test.drop('converted', axis=1)\n",
    "Y_test = test['converted']"
   ]
  },
  {
   "cell_type": "code",
   "execution_count": 10,
   "id": "92889350",
   "metadata": {
    "execution": {
     "iopub.execute_input": "2022-04-03T19:31:23.093445Z",
     "iopub.status.busy": "2022-04-03T19:31:23.092716Z",
     "iopub.status.idle": "2022-04-03T19:31:25.683742Z",
     "shell.execute_reply": "2022-04-03T19:31:25.682540Z",
     "shell.execute_reply.started": "2022-04-03T19:04:52.605095Z"
    },
    "papermill": {
     "duration": 2.634586,
     "end_time": "2022-04-03T19:31:25.684058",
     "exception": false,
     "start_time": "2022-04-03T19:31:23.049472",
     "status": "completed"
    },
    "tags": []
   },
   "outputs": [
    {
     "name": "stdout",
     "output_type": "stream",
     "text": [
      "0.9862066161255636\n"
     ]
    },
    {
     "name": "stderr",
     "output_type": "stream",
     "text": [
      "/opt/conda/lib/python3.7/site-packages/sklearn/linear_model/_logistic.py:818: ConvergenceWarning: lbfgs failed to converge (status=1):\n",
      "STOP: TOTAL NO. of ITERATIONS REACHED LIMIT.\n",
      "\n",
      "Increase the number of iterations (max_iter) or scale the data as shown in:\n",
      "    https://scikit-learn.org/stable/modules/preprocessing.html\n",
      "Please also refer to the documentation for alternative solver options:\n",
      "    https://scikit-learn.org/stable/modules/linear_model.html#logistic-regression\n",
      "  extra_warning_msg=_LOGISTIC_SOLVER_CONVERGENCE_MSG,\n"
     ]
    }
   ],
   "source": [
    "# logistic regression\n",
    "from sklearn.linear_model import LogisticRegression\n",
    "logreg = LogisticRegression()\n",
    "logreg.fit(X_train, Y_train)\n",
    "Y_pred = logreg.predict(X_test)\n",
    "print(logreg.score(X_train, Y_train))\n",
    "          "
   ]
  },
  {
   "cell_type": "code",
   "execution_count": 11,
   "id": "6ca8a27b",
   "metadata": {
    "execution": {
     "iopub.execute_input": "2022-04-03T19:31:25.812139Z",
     "iopub.status.busy": "2022-04-03T19:31:25.811425Z",
     "iopub.status.idle": "2022-04-03T19:31:26.309599Z",
     "shell.execute_reply": "2022-04-03T19:31:26.309063Z",
     "shell.execute_reply.started": "2022-04-03T19:07:19.222826Z"
    },
    "papermill": {
     "duration": 0.545746,
     "end_time": "2022-04-03T19:31:26.309749",
     "exception": false,
     "start_time": "2022-04-03T19:31:25.764003",
     "status": "completed"
    },
    "tags": []
   },
   "outputs": [
    {
     "name": "stdout",
     "output_type": "stream",
     "text": [
      "0.9885378922733556\n"
     ]
    }
   ],
   "source": [
    "# decision tree\n",
    "from sklearn.tree import DecisionTreeClassifier\n",
    "tree = DecisionTreeClassifier()\n",
    "tree.fit(X_train, Y_train)\n",
    "Y_predict = tree.predict(X_test)\n",
    "print(tree.score(X_train, Y_train))"
   ]
  },
  {
   "cell_type": "code",
   "execution_count": 12,
   "id": "b100defd",
   "metadata": {
    "execution": {
     "iopub.execute_input": "2022-04-03T19:31:26.397557Z",
     "iopub.status.busy": "2022-04-03T19:31:26.396828Z",
     "iopub.status.idle": "2022-04-03T19:31:39.963401Z",
     "shell.execute_reply": "2022-04-03T19:31:39.962672Z",
     "shell.execute_reply.started": "2022-04-03T19:09:06.950594Z"
    },
    "papermill": {
     "duration": 13.613437,
     "end_time": "2022-04-03T19:31:39.963576",
     "exception": false,
     "start_time": "2022-04-03T19:31:26.350139",
     "status": "completed"
    },
    "tags": []
   },
   "outputs": [
    {
     "name": "stdout",
     "output_type": "stream",
     "text": [
      "0.9885378922733556\n"
     ]
    }
   ],
   "source": [
    "# random forest\n",
    "from sklearn.ensemble import RandomForestClassifier\n",
    "rf = RandomForestClassifier()\n",
    "rf.fit(X_train, Y_train)\n",
    "Y_predict = rf.predict(X_test)\n",
    "print(rf.score(X_train, Y_train))"
   ]
  },
  {
   "cell_type": "markdown",
   "id": "a4edda47",
   "metadata": {
    "papermill": {
     "duration": 0.041234,
     "end_time": "2022-04-03T19:31:40.046880",
     "exception": false,
     "start_time": "2022-04-03T19:31:40.005646",
     "status": "completed"
    },
    "tags": []
   },
   "source": [
    "We will use random forest to prevent overfitting"
   ]
  },
  {
   "cell_type": "code",
   "execution_count": 13,
   "id": "a3dcbae7",
   "metadata": {
    "execution": {
     "iopub.execute_input": "2022-04-03T19:31:40.140699Z",
     "iopub.status.busy": "2022-04-03T19:31:40.133662Z",
     "iopub.status.idle": "2022-04-03T19:31:53.149250Z",
     "shell.execute_reply": "2022-04-03T19:31:53.148539Z",
     "shell.execute_reply.started": "2022-04-03T19:12:47.149798Z"
    },
    "papermill": {
     "duration": 13.059883,
     "end_time": "2022-04-03T19:31:53.149402",
     "exception": false,
     "start_time": "2022-04-03T19:31:40.089519",
     "status": "completed"
    },
    "tags": []
   },
   "outputs": [
    {
     "name": "stderr",
     "output_type": "stream",
     "text": [
      "/opt/conda/lib/python3.7/site-packages/sklearn/base.py:446: UserWarning: X does not have valid feature names, but RandomForestClassifier was fitted with feature names\n",
      "  \"X does not have valid feature names, but\"\n"
     ]
    },
    {
     "data": {
      "text/plain": [
       "RandomForestClassifier(max_features=3, oob_score=True)"
      ]
     },
     "execution_count": 13,
     "metadata": {},
     "output_type": "execute_result"
    }
   ],
   "source": [
    "import numpy as np\n",
    "from sklearn.metrics import confusion_matrix\n",
    "from sklearn.ensemble import RandomForestClassifier\n",
    "np.random.seed(999)\n",
    "rf = RandomForestClassifier(n_estimators=100, max_features=3, oob_score=True)\n",
    "rf.fit(X_train, Y_train)\n"
   ]
  },
  {
   "cell_type": "code",
   "execution_count": 14,
   "id": "3c340cdc",
   "metadata": {
    "execution": {
     "iopub.execute_input": "2022-04-03T19:31:53.236788Z",
     "iopub.status.busy": "2022-04-03T19:31:53.236088Z",
     "iopub.status.idle": "2022-04-03T19:31:53.271868Z",
     "shell.execute_reply": "2022-04-03T19:31:53.272397Z",
     "shell.execute_reply.started": "2022-04-03T19:14:02.236149Z"
    },
    "papermill": {
     "duration": 0.081018,
     "end_time": "2022-04-03T19:31:53.272586",
     "exception": false,
     "start_time": "2022-04-03T19:31:53.191568",
     "status": "completed"
    },
    "tags": []
   },
   "outputs": [
    {
     "name": "stdout",
     "output_type": "stream",
     "text": [
      "OOB accuracy is 0.984327137680832 \n",
      " OOB Confusion Matrix \n",
      "         0     1\n",
      "0  213032  1164\n",
      "1    2305  4837\n"
     ]
    }
   ],
   "source": [
    "#let's print OOB accuracy and confusion matrix\n",
    "print(\n",
    "\"OOB accuracy is\", \n",
    "rf.oob_score_, \n",
    "\"\\n\", \n",
    "\"OOB Confusion Matrix\", \n",
    "\"\\n\",\n",
    "pd.DataFrame(confusion_matrix(Y_train, rf.oob_decision_function_[:,1].round(), labels=[0, 1]))\n",
    ")"
   ]
  },
  {
   "cell_type": "code",
   "execution_count": 15,
   "id": "e17213b9",
   "metadata": {
    "execution": {
     "iopub.execute_input": "2022-04-03T19:31:53.365055Z",
     "iopub.status.busy": "2022-04-03T19:31:53.364336Z",
     "iopub.status.idle": "2022-04-03T19:31:55.921751Z",
     "shell.execute_reply": "2022-04-03T19:31:55.920869Z",
     "shell.execute_reply.started": "2022-04-03T19:14:49.248878Z"
    },
    "papermill": {
     "duration": 2.607153,
     "end_time": "2022-04-03T19:31:55.921979",
     "exception": false,
     "start_time": "2022-04-03T19:31:53.314826",
     "status": "completed"
    },
    "tags": []
   },
   "outputs": [
    {
     "name": "stdout",
     "output_type": "stream",
     "text": [
      "Test accuracy is 0.9845456462154755 \n",
      " Test Set Confusion Matrix \n",
      "        0     1\n",
      "0  91330   474\n",
      "1    992  2064\n"
     ]
    }
   ],
   "source": [
    "#and let's print test accuracy and confusion matrix\n",
    "print(\n",
    "\"Test accuracy is\", rf.score(X_test,Y_test), \n",
    "\"\\n\", \n",
    "\"Test Set Confusion Matrix\", \n",
    "\"\\n\",\n",
    "pd.DataFrame(confusion_matrix(Y_test, rf.predict(X_test), labels=[0, 1]))\n",
    ")"
   ]
  },
  {
   "cell_type": "markdown",
   "id": "964ed4bc",
   "metadata": {
    "papermill": {
     "duration": 0.042696,
     "end_time": "2022-04-03T19:31:56.008508",
     "exception": false,
     "start_time": "2022-04-03T19:31:55.965812",
     "status": "completed"
    },
    "tags": []
   },
   "source": [
    "Our model predicts well, so we can find more insights by checking feature importance"
   ]
  },
  {
   "cell_type": "code",
   "execution_count": 16,
   "id": "94f73ffa",
   "metadata": {
    "execution": {
     "iopub.execute_input": "2022-04-03T19:31:56.102450Z",
     "iopub.status.busy": "2022-04-03T19:31:56.101717Z",
     "iopub.status.idle": "2022-04-03T19:31:56.333356Z",
     "shell.execute_reply": "2022-04-03T19:31:56.333871Z",
     "shell.execute_reply.started": "2022-04-03T19:17:25.533540Z"
    },
    "papermill": {
     "duration": 0.281786,
     "end_time": "2022-04-03T19:31:56.334085",
     "exception": false,
     "start_time": "2022-04-03T19:31:56.052299",
     "status": "completed"
    },
    "tags": []
   },
   "outputs": [
    {
     "data": {
      "image/png": "[encoded data removed]",
      "text/plain": [
       "<Figure size 432x288 with 1 Axes>"
      ]
     },
     "metadata": {
      "needs_background": "light"
     },
     "output_type": "display_data"
    }
   ],
   "source": [
    "feature_importances = pd.Series(rf.feature_importances_, index=X_train.columns)\n",
    "feature_importances.sort_values().plot(kind='barh')\n",
    "plt.show()"
   ]
  },
  {
   "cell_type": "markdown",
   "id": "1bf9a451",
   "metadata": {
    "papermill": {
     "duration": 0.045389,
     "end_time": "2022-04-03T19:31:56.423457",
     "exception": false,
     "start_time": "2022-04-03T19:31:56.378068",
     "status": "completed"
    },
    "tags": []
   },
   "source": [
    "Here, we see total_pages_visited is the most important feature but it is probably ths least. Because people visit many pages to buy or make payments. So let's rebuild our random forest without total_pages_visited."
   ]
  },
  {
   "cell_type": "code",
   "execution_count": 17,
   "id": "00043a43",
   "metadata": {
    "execution": {
     "iopub.execute_input": "2022-04-03T19:31:56.517074Z",
     "iopub.status.busy": "2022-04-03T19:31:56.516345Z",
     "iopub.status.idle": "2022-04-03T19:32:09.641636Z",
     "shell.execute_reply": "2022-04-03T19:32:09.642175Z",
     "shell.execute_reply.started": "2022-04-03T19:21:57.824792Z"
    },
    "papermill": {
     "duration": 13.173818,
     "end_time": "2022-04-03T19:32:09.642372",
     "exception": false,
     "start_time": "2022-04-03T19:31:56.468554",
     "status": "completed"
    },
    "tags": []
   },
   "outputs": [
    {
     "name": "stderr",
     "output_type": "stream",
     "text": [
      "/opt/conda/lib/python3.7/site-packages/sklearn/base.py:446: UserWarning: X does not have valid feature names, but RandomForestClassifier was fitted with feature names\n",
      "  \"X does not have valid feature names, but\"\n"
     ]
    },
    {
     "name": "stdout",
     "output_type": "stream",
     "text": [
      "OOB accuracy is 0.967705500185237 \n",
      " OOB Confusion Matrix \n",
      "         0  1\n",
      "0  214190  6\n",
      "1    7142  0\n",
      "Test accuracy is 0.9677841028884672 \n",
      " Test Set Confusion Matrix \n",
      "        0  1\n",
      "0  91804  0\n",
      "1   3056  0\n"
     ]
    }
   ],
   "source": [
    "X_train = train.drop(['converted', 'total_pages_visited'], axis=1)\n",
    "Y_train = train.converted\n",
    "X_test = test.drop(['converted', 'total_pages_visited'], axis=1)\n",
    "rf = RandomForestClassifier(n_estimators=100, max_features=3, oob_score=True)\n",
    "rf.fit(X_train, Y_train)\n",
    "#let's print OOB accuracy and confusion matrix\n",
    "print(\n",
    "\"OOB accuracy is\", \n",
    "rf.oob_score_, \n",
    "\"\\n\", \n",
    "\"OOB Confusion Matrix\", \n",
    "\"\\n\",\n",
    "pd.DataFrame(confusion_matrix(Y_train, rf.oob_decision_function_[:,1].round(), labels=[0, 1]))\n",
    ")\n",
    "#and let's print test accuracy and confusion matrix\n",
    "print(\n",
    "\"Test accuracy is\", rf.score(X_test,Y_test), \n",
    "\"\\n\", \n",
    "\"Test Set Confusion Matrix\", \n",
    "\"\\n\",\n",
    "pd.DataFrame(confusion_matrix(Y_test, rf.predict(X_test), labels=[0, 1]))\n",
    ")\n",
    "                            "
   ]
  },
  {
   "cell_type": "markdown",
   "id": "bf6420dd",
   "metadata": {
    "papermill": {
     "duration": 0.045309,
     "end_time": "2022-04-03T19:32:09.732840",
     "exception": false,
     "start_time": "2022-04-03T19:32:09.687531",
     "status": "completed"
    },
    "tags": []
   },
   "source": [
    "The test accuracy went down but it still predicts well."
   ]
  },
  {
   "cell_type": "code",
   "execution_count": 18,
   "id": "a3d57ab1",
   "metadata": {
    "execution": {
     "iopub.execute_input": "2022-04-03T19:32:09.831392Z",
     "iopub.status.busy": "2022-04-03T19:32:09.830081Z",
     "iopub.status.idle": "2022-04-03T19:32:10.142844Z",
     "shell.execute_reply": "2022-04-03T19:32:10.142261Z",
     "shell.execute_reply.started": "2022-04-03T19:23:15.151036Z"
    },
    "papermill": {
     "duration": 0.363605,
     "end_time": "2022-04-03T19:32:10.143007",
     "exception": false,
     "start_time": "2022-04-03T19:32:09.779402",
     "status": "completed"
    },
    "tags": []
   },
   "outputs": [
    {
     "data": {
      "image/png": "[encoded data removed]",
      "text/plain": [
       "<Figure size 432x288 with 1 Axes>"
      ]
     },
     "metadata": {
      "needs_background": "light"
     },
     "output_type": "display_data"
    }
   ],
   "source": [
    "feature_importances = pd.Series(rf.feature_importances_, index=X_train.columns)\n",
    "feature_importances.sort_values().plot(kind='barh')\n",
    "plt.show()"
   ]
  },
  {
   "cell_type": "markdown",
   "id": "9ad37161",
   "metadata": {
    "papermill": {
     "duration": 0.045593,
     "end_time": "2022-04-03T19:32:10.235882",
     "exception": false,
     "start_time": "2022-04-03T19:32:10.190289",
     "status": "completed"
    },
    "tags": []
   },
   "source": [
    "Now new_user becomes the most important feature!"
   ]
  },
  {
   "cell_type": "markdown",
   "id": "e8ae8581",
   "metadata": {
    "papermill": {
     "duration": 0.046533,
     "end_time": "2022-04-03T19:32:10.330310",
     "exception": false,
     "start_time": "2022-04-03T19:32:10.283777",
     "status": "completed"
    },
    "tags": []
   },
   "source": [
    "Conclusion:\n",
    "\n",
    "This site works for young age groups and feature age is the second important feature.\n",
    "\n",
    "The conversion rate for German users is higher but with less number of user. Maybe focus on German market as a big oppotinity with huge benefit.\n",
    "\n",
    "The conversion rate for Chinese user is super low even with 76602 as around 7 times number of users in German. Maybe check website translation problem or check if there is potential culture issue.   \n",
    "\n",
    "New users' conversion rate is much lower than pre-signed users. Maybe offer some incentives to new users.\n",
    "\n",
    "\n"
   ]
  },
  {
   "cell_type": "code",
   "execution_count": null,
   "id": "290a3889",
   "metadata": {
    "papermill": {
     "duration": 0.046104,
     "end_time": "2022-04-03T19:32:10.423778",
     "exception": false,
     "start_time": "2022-04-03T19:32:10.377674",
     "status": "completed"
    },
    "tags": []
   },
   "outputs": [],
   "source": []
  }
 ],
 "metadata": {
  "kernelspec": {
   "display_name": "Python 3",
   "language": "python",
   "name": "python3"
  },
  "language_info": {
   "codemirror_mode": {
    "name": "ipython",
    "version": 3
   },
   "file_extension": ".py",
   "mimetype": "text/x-python",
   "name": "python",
   "nbconvert_exporter": "python",
   "pygments_lexer": "ipython3",
   "version": "3.7.12"
  },
  "papermill": {
   "default_parameters": {},
   "duration": 64.820863,
   "end_time": "2022-04-03T19:32:11.182719",
   "environment_variables": {},
   "exception": null,
   "input_path": "__notebook__.ipynb",
   "output_path": "__notebook__.ipynb",
   "parameters": {},
   "start_time": "2022-04-03T19:31:06.361856",
   "version": "2.3.3"
  }
 },
 "nbformat": 4,
 "nbformat_minor": 5
}
